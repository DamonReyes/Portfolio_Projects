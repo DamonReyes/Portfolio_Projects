{
 "cells": [
  {
   "cell_type": "markdown",
   "metadata": {},
   "source": [
    "# Retail Store Analytics\n",
    "\n",
    "> ### Technical Skills for this Project: Python(Pandas, Seaborn), EDA, Statistics.\n",
    "\n",
    "- This project is for the retail sector\n",
    "- The development focused on EDA and finding useful Insights.\n",
    "- I will only use Python\n",
    "\n",
    "---\n",
    "\n",
    "###### Task Details: \n",
    "One challenge of modeling retail data is the need to make decisions based on limited history. Holidays and select major events come once a year, and so does the chance to see how strategic decisions impacted the bottom line. In addition, markdowns are known to affect sales – im going to diagnose which departments are being affected and to what extent.\n",
    "\n",
    "I need to analyze the data set to understand this problem and propose data-driven solutions."
   ]
  },
  {
   "cell_type": "markdown",
   "metadata": {},
   "source": [
    "## Table of contents\n",
    "1. [Exploratory Data Analysis](#paragraph1)\n",
    "2. [Insights](#paragraph2)"
   ]
  },
  {
   "cell_type": "code",
   "execution_count": 1,
   "metadata": {},
   "outputs": [],
   "source": [
    "import pandas as pd\n",
    "import numpy as np \n",
    "import seaborn as sns\n",
    "import matplotlib.pyplot as plt\n",
    "%matplotlib inline"
   ]
  },
  {
   "cell_type": "code",
   "execution_count": 2,
   "metadata": {},
   "outputs": [],
   "source": [
    "# First view to the dataset's\n",
    "Store = pd.read_csv('Store_sales.csv', parse_dates=['Date'])"
   ]
  },
  {
   "cell_type": "code",
   "execution_count": 3,
   "metadata": {},
   "outputs": [
    {
     "data": {
      "image/png": "[encoded data removed]",
      "text/plain": [
       "<Figure size 720x72 with 1 Axes>"
      ]
     },
     "metadata": {
      "needs_background": "light"
     },
     "output_type": "display_data"
    }
   ],
   "source": [
    "palette = sns.color_palette(\"deep\")\n",
    "sns.palplot(palette)\n",
    "sns.set_palette(\"deep\")"
   ]
  },
  {
   "cell_type": "markdown",
   "metadata": {},
   "source": [
    "## Section 01: Exploratory Data Analysis <a name=\"paragraph1\"></a>"
   ]
  },
  {
   "cell_type": "code",
   "execution_count": 4,
   "metadata": {},
   "outputs": [],
   "source": [
    "pd.options.display.float_format = '{:.2f}'.format"
   ]
  },
  {
   "cell_type": "code",
   "execution_count": 5,
   "metadata": {},
   "outputs": [],
   "source": [
    "# Extracting Dates\n",
    "Store['year'] = Store['Date'].dt.year\n",
    "Store['month'] = Store['Date'].dt.month"
   ]
  },
  {
   "cell_type": "code",
   "execution_count": 6,
   "metadata": {},
   "outputs": [
    {
     "data": {
      "text/plain": [
       "Store                    int64\n",
       "Date            datetime64[ns]\n",
       "Weekly_Sales           float64\n",
       "Holiday_Flag             int64\n",
       "Temperature            float64\n",
       "Fuel_Price             float64\n",
       "CPI                    float64\n",
       "Unemployment           float64\n",
       "year                     int64\n",
       "month                    int64\n",
       "dtype: object"
      ]
     },
     "execution_count": 6,
     "metadata": {},
     "output_type": "execute_result"
    }
   ],
   "source": [
    "Store.dtypes"
   ]
  },
  {
   "cell_type": "markdown",
   "metadata": {},
   "source": [
    "> No Cleaning required"
   ]
  },
  {
   "cell_type": "code",
   "execution_count": 7,
   "metadata": {},
   "outputs": [
    {
     "data": {
      "text/plain": [
       "0"
      ]
     },
     "execution_count": 7,
     "metadata": {},
     "output_type": "execute_result"
    }
   ],
   "source": [
    "Store.duplicated().sum()"
   ]
  },
  {
   "cell_type": "markdown",
   "metadata": {},
   "source": [
    "> No Duplicates"
   ]
  },
  {
   "cell_type": "code",
   "execution_count": 8,
   "metadata": {},
   "outputs": [
    {
     "data": {
      "text/plain": [
       "Store           0\n",
       "Date            0\n",
       "Weekly_Sales    0\n",
       "Holiday_Flag    0\n",
       "Temperature     0\n",
       "Fuel_Price      0\n",
       "CPI             0\n",
       "Unemployment    0\n",
       "year            0\n",
       "month           0\n",
       "dtype: int64"
      ]
     },
     "execution_count": 8,
     "metadata": {},
     "output_type": "execute_result"
    }
   ],
   "source": [
    "Store.isnull().sum()"
   ]
  },
  {
   "cell_type": "markdown",
   "metadata": {},
   "source": [
    "> No Null values"
   ]
  },
  {
   "cell_type": "code",
   "execution_count": 9,
   "metadata": {},
   "outputs": [],
   "source": [
    "correlation = Store.corr(method='pearson')\n",
    "correlation2 = Store.corr().style.format(\"{:.2}\").background_gradient(cmap=plt.get_cmap('coolwarm'), axis=1)"
   ]
  },
  {
   "cell_type": "code",
   "execution_count": 10,
   "metadata": {},
   "outputs": [
    {
     "data": {
      "text/html": [
       "<div>\n",
       "<style scoped>\n",
       "    .dataframe tbody tr th:only-of-type {\n",
       "        vertical-align: middle;\n",
       "    }\n",
       "\n",
       "    .dataframe tbody tr th {\n",
       "        vertical-align: top;\n",
       "    }\n",
       "\n",
       "    .dataframe thead th {\n",
       "        text-align: right;\n",
       "    }\n",
       "</style>\n",
       "<table border=\"1\" class=\"dataframe\">\n",
       "  <thead>\n",
       "    <tr style=\"text-align: right;\">\n",
       "      <th></th>\n",
       "      <th>Store</th>\n",
       "      <th>Weekly_Sales</th>\n",
       "      <th>Temperature</th>\n",
       "      <th>Fuel_Price</th>\n",
       "      <th>CPI</th>\n",
       "      <th>Unemployment</th>\n",
       "    </tr>\n",
       "  </thead>\n",
       "  <tbody>\n",
       "    <tr>\n",
       "      <th>count</th>\n",
       "      <td>6435.00</td>\n",
       "      <td>6435.00</td>\n",
       "      <td>6435.00</td>\n",
       "      <td>6435.00</td>\n",
       "      <td>6435.00</td>\n",
       "      <td>6435.00</td>\n",
       "    </tr>\n",
       "    <tr>\n",
       "      <th>mean</th>\n",
       "      <td>23.00</td>\n",
       "      <td>1046964.88</td>\n",
       "      <td>60.66</td>\n",
       "      <td>3.36</td>\n",
       "      <td>171.58</td>\n",
       "      <td>8.00</td>\n",
       "    </tr>\n",
       "    <tr>\n",
       "      <th>std</th>\n",
       "      <td>12.99</td>\n",
       "      <td>564366.62</td>\n",
       "      <td>18.44</td>\n",
       "      <td>0.46</td>\n",
       "      <td>39.36</td>\n",
       "      <td>1.88</td>\n",
       "    </tr>\n",
       "    <tr>\n",
       "      <th>min</th>\n",
       "      <td>1.00</td>\n",
       "      <td>209986.25</td>\n",
       "      <td>-2.06</td>\n",
       "      <td>2.47</td>\n",
       "      <td>126.06</td>\n",
       "      <td>3.88</td>\n",
       "    </tr>\n",
       "    <tr>\n",
       "      <th>25%</th>\n",
       "      <td>12.00</td>\n",
       "      <td>553350.10</td>\n",
       "      <td>47.46</td>\n",
       "      <td>2.93</td>\n",
       "      <td>131.74</td>\n",
       "      <td>6.89</td>\n",
       "    </tr>\n",
       "    <tr>\n",
       "      <th>50%</th>\n",
       "      <td>23.00</td>\n",
       "      <td>960746.04</td>\n",
       "      <td>62.67</td>\n",
       "      <td>3.44</td>\n",
       "      <td>182.62</td>\n",
       "      <td>7.87</td>\n",
       "    </tr>\n",
       "    <tr>\n",
       "      <th>75%</th>\n",
       "      <td>34.00</td>\n",
       "      <td>1420158.66</td>\n",
       "      <td>74.94</td>\n",
       "      <td>3.73</td>\n",
       "      <td>212.74</td>\n",
       "      <td>8.62</td>\n",
       "    </tr>\n",
       "    <tr>\n",
       "      <th>max</th>\n",
       "      <td>45.00</td>\n",
       "      <td>3818686.45</td>\n",
       "      <td>100.14</td>\n",
       "      <td>4.47</td>\n",
       "      <td>227.23</td>\n",
       "      <td>14.31</td>\n",
       "    </tr>\n",
       "  </tbody>\n",
       "</table>\n",
       "</div>"
      ],
      "text/plain": [
       "        Store  Weekly_Sales  Temperature  Fuel_Price     CPI  Unemployment\n",
       "count 6435.00       6435.00      6435.00     6435.00 6435.00       6435.00\n",
       "mean    23.00    1046964.88        60.66        3.36  171.58          8.00\n",
       "std     12.99     564366.62        18.44        0.46   39.36          1.88\n",
       "min      1.00     209986.25        -2.06        2.47  126.06          3.88\n",
       "25%     12.00     553350.10        47.46        2.93  131.74          6.89\n",
       "50%     23.00     960746.04        62.67        3.44  182.62          7.87\n",
       "75%     34.00    1420158.66        74.94        3.73  212.74          8.62\n",
       "max     45.00    3818686.45       100.14        4.47  227.23         14.31"
      ]
     },
     "execution_count": 10,
     "metadata": {},
     "output_type": "execute_result"
    }
   ],
   "source": [
    "Store.drop(['year', 'month', 'Holiday_Flag'], axis=1).describe()"
   ]
  },
  {
   "cell_type": "code",
   "execution_count": 11,
   "metadata": {},
   "outputs": [
    {
     "data": {
      "text/html": [
       "<div>\n",
       "<style scoped>\n",
       "    .dataframe tbody tr th:only-of-type {\n",
       "        vertical-align: middle;\n",
       "    }\n",
       "\n",
       "    .dataframe tbody tr th {\n",
       "        vertical-align: top;\n",
       "    }\n",
       "\n",
       "    .dataframe thead th {\n",
       "        text-align: right;\n",
       "    }\n",
       "</style>\n",
       "<table border=\"1\" class=\"dataframe\">\n",
       "  <thead>\n",
       "    <tr style=\"text-align: right;\">\n",
       "      <th></th>\n",
       "      <th>Store</th>\n",
       "      <th>Date</th>\n",
       "      <th>Weekly_Sales</th>\n",
       "      <th>Holiday_Flag</th>\n",
       "      <th>Temperature</th>\n",
       "      <th>Fuel_Price</th>\n",
       "      <th>CPI</th>\n",
       "      <th>Unemployment</th>\n",
       "      <th>year</th>\n",
       "      <th>month</th>\n",
       "    </tr>\n",
       "  </thead>\n",
       "  <tbody>\n",
       "    <tr>\n",
       "      <th>0</th>\n",
       "      <td>1</td>\n",
       "      <td>2010-05-02</td>\n",
       "      <td>1643690.90</td>\n",
       "      <td>0</td>\n",
       "      <td>42.31</td>\n",
       "      <td>2.57</td>\n",
       "      <td>211.10</td>\n",
       "      <td>8.11</td>\n",
       "      <td>2010</td>\n",
       "      <td>5</td>\n",
       "    </tr>\n",
       "    <tr>\n",
       "      <th>1</th>\n",
       "      <td>1</td>\n",
       "      <td>2010-12-02</td>\n",
       "      <td>1641957.44</td>\n",
       "      <td>1</td>\n",
       "      <td>38.51</td>\n",
       "      <td>2.55</td>\n",
       "      <td>211.24</td>\n",
       "      <td>8.11</td>\n",
       "      <td>2010</td>\n",
       "      <td>12</td>\n",
       "    </tr>\n",
       "    <tr>\n",
       "      <th>2</th>\n",
       "      <td>1</td>\n",
       "      <td>2010-02-19</td>\n",
       "      <td>1611968.17</td>\n",
       "      <td>0</td>\n",
       "      <td>39.93</td>\n",
       "      <td>2.51</td>\n",
       "      <td>211.29</td>\n",
       "      <td>8.11</td>\n",
       "      <td>2010</td>\n",
       "      <td>2</td>\n",
       "    </tr>\n",
       "    <tr>\n",
       "      <th>3</th>\n",
       "      <td>1</td>\n",
       "      <td>2010-02-26</td>\n",
       "      <td>1409727.59</td>\n",
       "      <td>0</td>\n",
       "      <td>46.63</td>\n",
       "      <td>2.56</td>\n",
       "      <td>211.32</td>\n",
       "      <td>8.11</td>\n",
       "      <td>2010</td>\n",
       "      <td>2</td>\n",
       "    </tr>\n",
       "    <tr>\n",
       "      <th>4</th>\n",
       "      <td>1</td>\n",
       "      <td>2010-05-03</td>\n",
       "      <td>1554806.68</td>\n",
       "      <td>0</td>\n",
       "      <td>46.50</td>\n",
       "      <td>2.62</td>\n",
       "      <td>211.35</td>\n",
       "      <td>8.11</td>\n",
       "      <td>2010</td>\n",
       "      <td>5</td>\n",
       "    </tr>\n",
       "    <tr>\n",
       "      <th>...</th>\n",
       "      <td>...</td>\n",
       "      <td>...</td>\n",
       "      <td>...</td>\n",
       "      <td>...</td>\n",
       "      <td>...</td>\n",
       "      <td>...</td>\n",
       "      <td>...</td>\n",
       "      <td>...</td>\n",
       "      <td>...</td>\n",
       "      <td>...</td>\n",
       "    </tr>\n",
       "    <tr>\n",
       "      <th>6430</th>\n",
       "      <td>45</td>\n",
       "      <td>2012-09-28</td>\n",
       "      <td>713173.95</td>\n",
       "      <td>0</td>\n",
       "      <td>64.88</td>\n",
       "      <td>4.00</td>\n",
       "      <td>192.01</td>\n",
       "      <td>8.68</td>\n",
       "      <td>2012</td>\n",
       "      <td>9</td>\n",
       "    </tr>\n",
       "    <tr>\n",
       "      <th>6431</th>\n",
       "      <td>45</td>\n",
       "      <td>2012-05-10</td>\n",
       "      <td>733455.07</td>\n",
       "      <td>0</td>\n",
       "      <td>64.89</td>\n",
       "      <td>3.98</td>\n",
       "      <td>192.17</td>\n",
       "      <td>8.67</td>\n",
       "      <td>2012</td>\n",
       "      <td>5</td>\n",
       "    </tr>\n",
       "    <tr>\n",
       "      <th>6432</th>\n",
       "      <td>45</td>\n",
       "      <td>2012-12-10</td>\n",
       "      <td>734464.36</td>\n",
       "      <td>0</td>\n",
       "      <td>54.47</td>\n",
       "      <td>4.00</td>\n",
       "      <td>192.33</td>\n",
       "      <td>8.67</td>\n",
       "      <td>2012</td>\n",
       "      <td>12</td>\n",
       "    </tr>\n",
       "    <tr>\n",
       "      <th>6433</th>\n",
       "      <td>45</td>\n",
       "      <td>2012-10-19</td>\n",
       "      <td>718125.53</td>\n",
       "      <td>0</td>\n",
       "      <td>56.47</td>\n",
       "      <td>3.97</td>\n",
       "      <td>192.33</td>\n",
       "      <td>8.67</td>\n",
       "      <td>2012</td>\n",
       "      <td>10</td>\n",
       "    </tr>\n",
       "    <tr>\n",
       "      <th>6434</th>\n",
       "      <td>45</td>\n",
       "      <td>2012-10-26</td>\n",
       "      <td>760281.43</td>\n",
       "      <td>0</td>\n",
       "      <td>58.85</td>\n",
       "      <td>3.88</td>\n",
       "      <td>192.31</td>\n",
       "      <td>8.67</td>\n",
       "      <td>2012</td>\n",
       "      <td>10</td>\n",
       "    </tr>\n",
       "  </tbody>\n",
       "</table>\n",
       "<p>6435 rows × 10 columns</p>\n",
       "</div>"
      ],
      "text/plain": [
       "      Store       Date  Weekly_Sales  Holiday_Flag  Temperature  Fuel_Price  \\\n",
       "0         1 2010-05-02    1643690.90             0        42.31        2.57   \n",
       "1         1 2010-12-02    1641957.44             1        38.51        2.55   \n",
       "2         1 2010-02-19    1611968.17             0        39.93        2.51   \n",
       "3         1 2010-02-26    1409727.59             0        46.63        2.56   \n",
       "4         1 2010-05-03    1554806.68             0        46.50        2.62   \n",
       "...     ...        ...           ...           ...          ...         ...   \n",
       "6430     45 2012-09-28     713173.95             0        64.88        4.00   \n",
       "6431     45 2012-05-10     733455.07             0        64.89        3.98   \n",
       "6432     45 2012-12-10     734464.36             0        54.47        4.00   \n",
       "6433     45 2012-10-19     718125.53             0        56.47        3.97   \n",
       "6434     45 2012-10-26     760281.43             0        58.85        3.88   \n",
       "\n",
       "        CPI  Unemployment  year  month  \n",
       "0    211.10          8.11  2010      5  \n",
       "1    211.24          8.11  2010     12  \n",
       "2    211.29          8.11  2010      2  \n",
       "3    211.32          8.11  2010      2  \n",
       "4    211.35          8.11  2010      5  \n",
       "...     ...           ...   ...    ...  \n",
       "6430 192.01          8.68  2012      9  \n",
       "6431 192.17          8.67  2012      5  \n",
       "6432 192.33          8.67  2012     12  \n",
       "6433 192.33          8.67  2012     10  \n",
       "6434 192.31          8.67  2012     10  \n",
       "\n",
       "[6435 rows x 10 columns]"
      ]
     },
     "execution_count": 11,
     "metadata": {},
     "output_type": "execute_result"
    }
   ],
   "source": [
    "Store"
   ]
  },
  {
   "cell_type": "code",
   "execution_count": 12,
   "metadata": {},
   "outputs": [
    {
     "data": {
      "image/png": "[encoded data removed]",
      "text/plain": [
       "<Figure size 432x288 with 1 Axes>"
      ]
     },
     "metadata": {
      "needs_background": "light"
     },
     "output_type": "display_data"
    }
   ],
   "source": [
    "boxplot = Store.boxplot(column=[ 'Unemployment'])"
   ]
  },
  {
   "cell_type": "code",
   "execution_count": 13,
   "metadata": {},
   "outputs": [
    {
     "data": {
      "image/png": "[encoded data removed]",
      "text/plain": [
       "<Figure size 432x288 with 1 Axes>"
      ]
     },
     "metadata": {
      "needs_background": "light"
     },
     "output_type": "display_data"
    }
   ],
   "source": [
    "boxplot = Store.boxplot(column=[ 'Weekly_Sales'])"
   ]
  },
  {
   "cell_type": "markdown",
   "metadata": {},
   "source": [
    "---"
   ]
  },
  {
   "cell_type": "code",
   "execution_count": 14,
   "metadata": {},
   "outputs": [
    {
     "data": {
      "text/plain": [
       "Store\n",
       "20   301397792.46\n",
       "4    299543953.38\n",
       "14   288999911.34\n",
       "13   286517703.80\n",
       "2    275382440.98\n",
       "Name: Weekly_Sales, dtype: float64"
      ]
     },
     "execution_count": 14,
     "metadata": {},
     "output_type": "execute_result"
    }
   ],
   "source": [
    "Store.groupby('Store')['Weekly_Sales'].sum().sort_values(ascending=False).head(5)"
   ]
  },
  {
   "cell_type": "code",
   "execution_count": 15,
   "metadata": {},
   "outputs": [
    {
     "data": {
      "text/plain": [
       "<seaborn.axisgrid.FacetGrid at 0x1e5fadc5070>"
      ]
     },
     "execution_count": 15,
     "metadata": {},
     "output_type": "execute_result"
    },
    {
     "data": {
      "image/png": "[encoded data removed]",
      "text/plain": [
       "<Figure size 720x720 with 1 Axes>"
      ]
     },
     "metadata": {
      "needs_background": "light"
     },
     "output_type": "display_data"
    }
   ],
   "source": [
    "sns.catplot(x=\"Store\", y=\"Weekly_Sales\", kind=\"bar\",height=10,data=Store)"
   ]
  },
  {
   "cell_type": "code",
   "execution_count": 16,
   "metadata": {},
   "outputs": [
    {
     "data": {
      "text/plain": [
       "Store\n",
       "14   317569.95\n",
       "Name: Weekly_Sales, dtype: float64"
      ]
     },
     "execution_count": 16,
     "metadata": {},
     "output_type": "execute_result"
    }
   ],
   "source": [
    "Store.groupby('Store')['Weekly_Sales'].std().sort_values(ascending=False).head(1)"
   ]
  },
  {
   "cell_type": "code",
   "execution_count": 17,
   "metadata": {},
   "outputs": [
    {
     "data": {
      "text/plain": [
       "Store\n",
       "35   22.97\n",
       "7    19.73\n",
       "15   19.34\n",
       "29   18.37\n",
       "23   17.97\n",
       "Name: Weekly_Sales, dtype: float64"
      ]
     },
     "execution_count": 17,
     "metadata": {},
     "output_type": "execute_result"
    }
   ],
   "source": [
    "#maximun coefficient variation\n",
    "max_coeff_var = ((Store.groupby('Store')['Weekly_Sales'].std())/(Store.groupby('Store')['Weekly_Sales'].mean()))*100\n",
    "max_coeff_var.sort_values(ascending=False).head(5)"
   ]
  },
  {
   "cell_type": "code",
   "execution_count": 18,
   "metadata": {},
   "outputs": [
    {
     "data": {
      "text/plain": [
       "<seaborn.axisgrid.FacetGrid at 0x1e5fb192b50>"
      ]
     },
     "execution_count": 18,
     "metadata": {},
     "output_type": "execute_result"
    },
    {
     "data": {
      "image/png": "[encoded data removed]",
      "text/plain": [
       "<Figure size 360x360 with 1 Axes>"
      ]
     },
     "metadata": {
      "needs_background": "light"
     },
     "output_type": "display_data"
    }
   ],
   "source": [
    "# Remenber that std or Max coefficient of mean to standard deviation can be checked in a distribution plot to corroborate\n",
    "stores = Store.groupby('Store')\n",
    "store_35 = stores.get_group(35)\n",
    "sns.displot(store_35.Weekly_Sales, color='blue', label='Weekly Sales for Store 35', kde=True)"
   ]
  },
  {
   "cell_type": "code",
   "execution_count": 19,
   "metadata": {},
   "outputs": [
    {
     "name": "stderr",
     "output_type": "stream",
     "text": [
      "C:\\Users\\steve\\anaconda3\\lib\\site-packages\\seaborn\\_decorators.py:36: FutureWarning: Pass the following variable as a keyword arg: x. From version 0.12, the only valid positional argument will be `data`, and passing other arguments without an explicit keyword will result in an error or misinterpretation.\n",
      "  warnings.warn(\n"
     ]
    },
    {
     "data": {
      "text/plain": [
       "<AxesSubplot:xlabel='Weekly_Sales'>"
      ]
     },
     "execution_count": 19,
     "metadata": {},
     "output_type": "execute_result"
    },
    {
     "data": {
      "image/png": "[encoded data removed]",
      "text/plain": [
       "<Figure size 432x288 with 1 Axes>"
      ]
     },
     "metadata": {
      "needs_background": "light"
     },
     "output_type": "display_data"
    }
   ],
   "source": [
    "sns.boxplot(store_35.Weekly_Sales, color='blue')"
   ]
  },
  {
   "cell_type": "code",
   "execution_count": 20,
   "metadata": {},
   "outputs": [
    {
     "data": {
      "text/plain": [
       "<seaborn.axisgrid.FacetGrid at 0x1e5fadb7e20>"
      ]
     },
     "execution_count": 20,
     "metadata": {},
     "output_type": "execute_result"
    },
    {
     "data": {
      "image/png": "[encoded data removed]",
      "text/plain": [
       "<Figure size 360x360 with 1 Axes>"
      ]
     },
     "metadata": {
      "needs_background": "light"
     },
     "output_type": "display_data"
    }
   ],
   "source": [
    "stores = Store.groupby('Store')\n",
    "store_14 = stores.get_group(14)\n",
    "sns.displot(store_14.Weekly_Sales, color='cyan', label='Weekly Sales for Store 14', kde=True)"
   ]
  },
  {
   "cell_type": "code",
   "execution_count": 21,
   "metadata": {},
   "outputs": [
    {
     "name": "stderr",
     "output_type": "stream",
     "text": [
      "C:\\Users\\steve\\anaconda3\\lib\\site-packages\\seaborn\\_decorators.py:36: FutureWarning: Pass the following variable as a keyword arg: x. From version 0.12, the only valid positional argument will be `data`, and passing other arguments without an explicit keyword will result in an error or misinterpretation.\n",
      "  warnings.warn(\n"
     ]
    },
    {
     "data": {
      "text/plain": [
       "<AxesSubplot:xlabel='Weekly_Sales'>"
      ]
     },
     "execution_count": 21,
     "metadata": {},
     "output_type": "execute_result"
    },
    {
     "data": {
      "image/png": "[encoded data removed]",
      "text/plain": [
       "<Figure size 432x288 with 1 Axes>"
      ]
     },
     "metadata": {
      "needs_background": "light"
     },
     "output_type": "display_data"
    }
   ],
   "source": [
    "sns.boxplot(store_14.Weekly_Sales, color='cyan')"
   ]
  },
  {
   "cell_type": "code",
   "execution_count": 22,
   "metadata": {},
   "outputs": [
    {
     "data": {
      "text/plain": [
       "Store\n",
       "12   1875.66\n",
       "Name: Unemployment, dtype: float64"
      ]
     },
     "execution_count": 22,
     "metadata": {},
     "output_type": "execute_result"
    }
   ],
   "source": [
    "Store.groupby('Store')['Unemployment'].sum().sort_values(ascending=False).head(1)"
   ]
  },
  {
   "cell_type": "code",
   "execution_count": 23,
   "metadata": {},
   "outputs": [
    {
     "data": {
      "text/plain": [
       "growth_Q3    16\n",
       "dtype: int64"
      ]
     },
     "execution_count": 23,
     "metadata": {},
     "output_type": "execute_result"
    }
   ],
   "source": [
    "out = Store.sort_values(by=[\"Store\", \"Date\"]) \\\n",
    "        .groupby([\"Store\"]) \\\n",
    "        .agg(growth_Q3=(\"Weekly_Sales\", lambda x: (x.iloc[2] - x.iloc[1])/(x.iloc[1]) * 100))\n",
    "out.idxmax()"
   ]
  },
  {
   "cell_type": "code",
   "execution_count": 24,
   "metadata": {},
   "outputs": [],
   "source": [
    "# Sales for third quarterly in 2012\n",
    "Q3 = Store[(Store['Date'] > '2012-07-01') & (Store['Date'] < '2012-09-30')].groupby('Store')['Weekly_Sales'].sum()\n",
    "\n",
    "# Sales for second quarterly in 2012\n",
    "Q2 = Store[(Store['Date'] > '2012-04-01') & (Store['Date'] < '2012-06-30')].groupby('Store')['Weekly_Sales'].sum()"
   ]
  },
  {
   "cell_type": "code",
   "execution_count": 25,
   "metadata": {
    "scrolled": true
   },
   "outputs": [
    {
     "data": {
      "image/png": "[encoded data removed]",
      "text/plain": [
       "<Figure size 1080x360 with 1 Axes>"
      ]
     },
     "metadata": {
      "needs_background": "light"
     },
     "output_type": "display_data"
    }
   ],
   "source": [
    "plt.figure(figsize=(15,5))\n",
    "# Plotting the difference between sales for second and third quarterly\n",
    "Q2.plot(ax=Q3.plot(kind='bar',legend=True),kind='bar',color='r',alpha=0.2,legend=True);\n",
    "plt.legend([\"Q3' 2012\", \"Q2' 2012\"]);"
   ]
  },
  {
   "cell_type": "code",
   "execution_count": 26,
   "metadata": {},
   "outputs": [
    {
     "data": {
      "text/plain": [
       "25652123.35"
      ]
     },
     "execution_count": 26,
     "metadata": {},
     "output_type": "execute_result"
    }
   ],
   "source": [
    "Q3.idxmax()+Q3.max()"
   ]
  },
  {
   "cell_type": "markdown",
   "metadata": {},
   "source": [
    "#### Notes:\n",
    "Which store had maximum sales?\n",
    "> The Store with maximun sales is the number 20 with 301,397,792\n",
    "\n",
    "Which store had maximum standard deviation? the sales vary a lot.\n",
    "\n",
    "> The store 14 had maximum standard deviation and store 35 has maximum Coefficient of Variance.\n",
    "\n",
    "Wich store had the more unemployment?\n",
    "\n",
    "> Store Number 12 had the more unemployment rate\n",
    "\n",
    "Which store/s has good quarterly growth rate in Q3’2012\n",
    "\n",
    "> Store number 16 had the maximun growth rate in Q3 overall\n",
    "\n",
    "> Store number 4 had the the best quarterly growth rate in Q3’2012\n",
    "\n",
    "> Sales and Unemployment have Outliers, going to deal with it later in the analysis"
   ]
  },
  {
   "cell_type": "markdown",
   "metadata": {},
   "source": [
    "---"
   ]
  },
  {
   "cell_type": "code",
   "execution_count": 27,
   "metadata": {},
   "outputs": [
    {
     "data": {
      "text/html": [
       "<div>\n",
       "<style scoped>\n",
       "    .dataframe tbody tr th:only-of-type {\n",
       "        vertical-align: middle;\n",
       "    }\n",
       "\n",
       "    .dataframe tbody tr th {\n",
       "        vertical-align: top;\n",
       "    }\n",
       "\n",
       "    .dataframe thead th {\n",
       "        text-align: right;\n",
       "    }\n",
       "</style>\n",
       "<table border=\"1\" class=\"dataframe\">\n",
       "  <thead>\n",
       "    <tr style=\"text-align: right;\">\n",
       "      <th></th>\n",
       "      <th>Store</th>\n",
       "      <th>Date</th>\n",
       "      <th>Weekly_Sales</th>\n",
       "      <th>Holiday_Flag</th>\n",
       "      <th>Temperature</th>\n",
       "      <th>Fuel_Price</th>\n",
       "      <th>CPI</th>\n",
       "      <th>Unemployment</th>\n",
       "      <th>year</th>\n",
       "      <th>month</th>\n",
       "    </tr>\n",
       "  </thead>\n",
       "  <tbody>\n",
       "    <tr>\n",
       "      <th>0</th>\n",
       "      <td>1</td>\n",
       "      <td>2010-05-02</td>\n",
       "      <td>1643690.90</td>\n",
       "      <td>0</td>\n",
       "      <td>42.31</td>\n",
       "      <td>2.57</td>\n",
       "      <td>211.10</td>\n",
       "      <td>8.11</td>\n",
       "      <td>2010</td>\n",
       "      <td>5</td>\n",
       "    </tr>\n",
       "    <tr>\n",
       "      <th>1</th>\n",
       "      <td>1</td>\n",
       "      <td>2010-12-02</td>\n",
       "      <td>1641957.44</td>\n",
       "      <td>1</td>\n",
       "      <td>38.51</td>\n",
       "      <td>2.55</td>\n",
       "      <td>211.24</td>\n",
       "      <td>8.11</td>\n",
       "      <td>2010</td>\n",
       "      <td>12</td>\n",
       "    </tr>\n",
       "    <tr>\n",
       "      <th>2</th>\n",
       "      <td>1</td>\n",
       "      <td>2010-02-19</td>\n",
       "      <td>1611968.17</td>\n",
       "      <td>0</td>\n",
       "      <td>39.93</td>\n",
       "      <td>2.51</td>\n",
       "      <td>211.29</td>\n",
       "      <td>8.11</td>\n",
       "      <td>2010</td>\n",
       "      <td>2</td>\n",
       "    </tr>\n",
       "    <tr>\n",
       "      <th>3</th>\n",
       "      <td>1</td>\n",
       "      <td>2010-02-26</td>\n",
       "      <td>1409727.59</td>\n",
       "      <td>0</td>\n",
       "      <td>46.63</td>\n",
       "      <td>2.56</td>\n",
       "      <td>211.32</td>\n",
       "      <td>8.11</td>\n",
       "      <td>2010</td>\n",
       "      <td>2</td>\n",
       "    </tr>\n",
       "    <tr>\n",
       "      <th>4</th>\n",
       "      <td>1</td>\n",
       "      <td>2010-05-03</td>\n",
       "      <td>1554806.68</td>\n",
       "      <td>0</td>\n",
       "      <td>46.50</td>\n",
       "      <td>2.62</td>\n",
       "      <td>211.35</td>\n",
       "      <td>8.11</td>\n",
       "      <td>2010</td>\n",
       "      <td>5</td>\n",
       "    </tr>\n",
       "    <tr>\n",
       "      <th>...</th>\n",
       "      <td>...</td>\n",
       "      <td>...</td>\n",
       "      <td>...</td>\n",
       "      <td>...</td>\n",
       "      <td>...</td>\n",
       "      <td>...</td>\n",
       "      <td>...</td>\n",
       "      <td>...</td>\n",
       "      <td>...</td>\n",
       "      <td>...</td>\n",
       "    </tr>\n",
       "    <tr>\n",
       "      <th>6430</th>\n",
       "      <td>45</td>\n",
       "      <td>2012-09-28</td>\n",
       "      <td>713173.95</td>\n",
       "      <td>0</td>\n",
       "      <td>64.88</td>\n",
       "      <td>4.00</td>\n",
       "      <td>192.01</td>\n",
       "      <td>8.68</td>\n",
       "      <td>2012</td>\n",
       "      <td>9</td>\n",
       "    </tr>\n",
       "    <tr>\n",
       "      <th>6431</th>\n",
       "      <td>45</td>\n",
       "      <td>2012-05-10</td>\n",
       "      <td>733455.07</td>\n",
       "      <td>0</td>\n",
       "      <td>64.89</td>\n",
       "      <td>3.98</td>\n",
       "      <td>192.17</td>\n",
       "      <td>8.67</td>\n",
       "      <td>2012</td>\n",
       "      <td>5</td>\n",
       "    </tr>\n",
       "    <tr>\n",
       "      <th>6432</th>\n",
       "      <td>45</td>\n",
       "      <td>2012-12-10</td>\n",
       "      <td>734464.36</td>\n",
       "      <td>0</td>\n",
       "      <td>54.47</td>\n",
       "      <td>4.00</td>\n",
       "      <td>192.33</td>\n",
       "      <td>8.67</td>\n",
       "      <td>2012</td>\n",
       "      <td>12</td>\n",
       "    </tr>\n",
       "    <tr>\n",
       "      <th>6433</th>\n",
       "      <td>45</td>\n",
       "      <td>2012-10-19</td>\n",
       "      <td>718125.53</td>\n",
       "      <td>0</td>\n",
       "      <td>56.47</td>\n",
       "      <td>3.97</td>\n",
       "      <td>192.33</td>\n",
       "      <td>8.67</td>\n",
       "      <td>2012</td>\n",
       "      <td>10</td>\n",
       "    </tr>\n",
       "    <tr>\n",
       "      <th>6434</th>\n",
       "      <td>45</td>\n",
       "      <td>2012-10-26</td>\n",
       "      <td>760281.43</td>\n",
       "      <td>0</td>\n",
       "      <td>58.85</td>\n",
       "      <td>3.88</td>\n",
       "      <td>192.31</td>\n",
       "      <td>8.67</td>\n",
       "      <td>2012</td>\n",
       "      <td>10</td>\n",
       "    </tr>\n",
       "  </tbody>\n",
       "</table>\n",
       "<p>6435 rows × 10 columns</p>\n",
       "</div>"
      ],
      "text/plain": [
       "      Store       Date  Weekly_Sales  Holiday_Flag  Temperature  Fuel_Price  \\\n",
       "0         1 2010-05-02    1643690.90             0        42.31        2.57   \n",
       "1         1 2010-12-02    1641957.44             1        38.51        2.55   \n",
       "2         1 2010-02-19    1611968.17             0        39.93        2.51   \n",
       "3         1 2010-02-26    1409727.59             0        46.63        2.56   \n",
       "4         1 2010-05-03    1554806.68             0        46.50        2.62   \n",
       "...     ...        ...           ...           ...          ...         ...   \n",
       "6430     45 2012-09-28     713173.95             0        64.88        4.00   \n",
       "6431     45 2012-05-10     733455.07             0        64.89        3.98   \n",
       "6432     45 2012-12-10     734464.36             0        54.47        4.00   \n",
       "6433     45 2012-10-19     718125.53             0        56.47        3.97   \n",
       "6434     45 2012-10-26     760281.43             0        58.85        3.88   \n",
       "\n",
       "        CPI  Unemployment  year  month  \n",
       "0    211.10          8.11  2010      5  \n",
       "1    211.24          8.11  2010     12  \n",
       "2    211.29          8.11  2010      2  \n",
       "3    211.32          8.11  2010      2  \n",
       "4    211.35          8.11  2010      5  \n",
       "...     ...           ...   ...    ...  \n",
       "6430 192.01          8.68  2012      9  \n",
       "6431 192.17          8.67  2012      5  \n",
       "6432 192.33          8.67  2012     12  \n",
       "6433 192.33          8.67  2012     10  \n",
       "6434 192.31          8.67  2012     10  \n",
       "\n",
       "[6435 rows x 10 columns]"
      ]
     },
     "execution_count": 27,
     "metadata": {},
     "output_type": "execute_result"
    }
   ],
   "source": [
    "Store"
   ]
  },
  {
   "cell_type": "code",
   "execution_count": 28,
   "metadata": {},
   "outputs": [
    {
     "data": {
      "text/html": [
       "<div>\n",
       "<style scoped>\n",
       "    .dataframe tbody tr th:only-of-type {\n",
       "        vertical-align: middle;\n",
       "    }\n",
       "\n",
       "    .dataframe tbody tr th {\n",
       "        vertical-align: top;\n",
       "    }\n",
       "\n",
       "    .dataframe thead th {\n",
       "        text-align: right;\n",
       "    }\n",
       "</style>\n",
       "<table border=\"1\" class=\"dataframe\">\n",
       "  <thead>\n",
       "    <tr style=\"text-align: right;\">\n",
       "      <th></th>\n",
       "      <th>Store</th>\n",
       "      <th>Weekly_Sales</th>\n",
       "      <th>Temperature</th>\n",
       "      <th>Fuel_Price</th>\n",
       "      <th>CPI</th>\n",
       "      <th>Unemployment</th>\n",
       "    </tr>\n",
       "  </thead>\n",
       "  <tbody>\n",
       "    <tr>\n",
       "      <th>count</th>\n",
       "      <td>6435.00</td>\n",
       "      <td>6435.00</td>\n",
       "      <td>6435.00</td>\n",
       "      <td>6435.00</td>\n",
       "      <td>6435.00</td>\n",
       "      <td>6435.00</td>\n",
       "    </tr>\n",
       "    <tr>\n",
       "      <th>mean</th>\n",
       "      <td>23.00</td>\n",
       "      <td>1046964.88</td>\n",
       "      <td>60.66</td>\n",
       "      <td>3.36</td>\n",
       "      <td>171.58</td>\n",
       "      <td>8.00</td>\n",
       "    </tr>\n",
       "    <tr>\n",
       "      <th>std</th>\n",
       "      <td>12.99</td>\n",
       "      <td>564366.62</td>\n",
       "      <td>18.44</td>\n",
       "      <td>0.46</td>\n",
       "      <td>39.36</td>\n",
       "      <td>1.88</td>\n",
       "    </tr>\n",
       "    <tr>\n",
       "      <th>min</th>\n",
       "      <td>1.00</td>\n",
       "      <td>209986.25</td>\n",
       "      <td>-2.06</td>\n",
       "      <td>2.47</td>\n",
       "      <td>126.06</td>\n",
       "      <td>3.88</td>\n",
       "    </tr>\n",
       "    <tr>\n",
       "      <th>25%</th>\n",
       "      <td>12.00</td>\n",
       "      <td>553350.10</td>\n",
       "      <td>47.46</td>\n",
       "      <td>2.93</td>\n",
       "      <td>131.74</td>\n",
       "      <td>6.89</td>\n",
       "    </tr>\n",
       "    <tr>\n",
       "      <th>50%</th>\n",
       "      <td>23.00</td>\n",
       "      <td>960746.04</td>\n",
       "      <td>62.67</td>\n",
       "      <td>3.44</td>\n",
       "      <td>182.62</td>\n",
       "      <td>7.87</td>\n",
       "    </tr>\n",
       "    <tr>\n",
       "      <th>75%</th>\n",
       "      <td>34.00</td>\n",
       "      <td>1420158.66</td>\n",
       "      <td>74.94</td>\n",
       "      <td>3.73</td>\n",
       "      <td>212.74</td>\n",
       "      <td>8.62</td>\n",
       "    </tr>\n",
       "    <tr>\n",
       "      <th>max</th>\n",
       "      <td>45.00</td>\n",
       "      <td>3818686.45</td>\n",
       "      <td>100.14</td>\n",
       "      <td>4.47</td>\n",
       "      <td>227.23</td>\n",
       "      <td>14.31</td>\n",
       "    </tr>\n",
       "  </tbody>\n",
       "</table>\n",
       "</div>"
      ],
      "text/plain": [
       "        Store  Weekly_Sales  Temperature  Fuel_Price     CPI  Unemployment\n",
       "count 6435.00       6435.00      6435.00     6435.00 6435.00       6435.00\n",
       "mean    23.00    1046964.88        60.66        3.36  171.58          8.00\n",
       "std     12.99     564366.62        18.44        0.46   39.36          1.88\n",
       "min      1.00     209986.25        -2.06        2.47  126.06          3.88\n",
       "25%     12.00     553350.10        47.46        2.93  131.74          6.89\n",
       "50%     23.00     960746.04        62.67        3.44  182.62          7.87\n",
       "75%     34.00    1420158.66        74.94        3.73  212.74          8.62\n",
       "max     45.00    3818686.45       100.14        4.47  227.23         14.31"
      ]
     },
     "execution_count": 28,
     "metadata": {},
     "output_type": "execute_result"
    }
   ],
   "source": [
    "Store.drop(['year', 'month', 'Holiday_Flag'], axis=1).describe()"
   ]
  },
  {
   "cell_type": "code",
   "execution_count": 29,
   "metadata": {
    "scrolled": true
   },
   "outputs": [
    {
     "data": {
      "text/plain": [
       "Date\n",
       "2010-12-24   80931415.60\n",
       "2011-12-23   76998241.31\n",
       "2011-11-25   66593605.26\n",
       "2010-11-26   65821003.24\n",
       "2010-12-17   61820799.85\n",
       "Name: Weekly_Sales, dtype: float64"
      ]
     },
     "execution_count": 29,
     "metadata": {},
     "output_type": "execute_result"
    }
   ],
   "source": [
    "Store.groupby('Date')['Weekly_Sales'].sum().sort_values(ascending=False).head(5)"
   ]
  },
  {
   "cell_type": "code",
   "execution_count": 30,
   "metadata": {},
   "outputs": [
    {
     "data": {
      "text/plain": [
       "<AxesSubplot:xlabel='Date'>"
      ]
     },
     "execution_count": 30,
     "metadata": {},
     "output_type": "execute_result"
    },
    {
     "data": {
      "image/png": "[encoded data removed]",
      "text/plain": [
       "<Figure size 432x288 with 1 Axes>"
      ]
     },
     "metadata": {
      "needs_background": "light"
     },
     "output_type": "display_data"
    }
   ],
   "source": [
    "Store.groupby('Date')['Weekly_Sales'].sum().sort_values(ascending=False).head(5).plot(kind='bar')"
   ]
  },
  {
   "cell_type": "code",
   "execution_count": 31,
   "metadata": {},
   "outputs": [],
   "source": [
    "#Store[(Store['Date'] == '2010-12-24')].sort_values(by='Date',ascending=False)"
   ]
  },
  {
   "cell_type": "code",
   "execution_count": 32,
   "metadata": {},
   "outputs": [
    {
     "data": {
      "text/plain": [
       "Date\n",
       "2011-01-28   39599852.99\n",
       "2012-01-27   39834974.67\n",
       "2010-12-31   40432519.00\n",
       "2011-01-21   40654648.03\n",
       "2011-01-14   40673678.04\n",
       "Name: Weekly_Sales, dtype: float64"
      ]
     },
     "execution_count": 32,
     "metadata": {},
     "output_type": "execute_result"
    }
   ],
   "source": [
    "Store.groupby('Date')['Weekly_Sales'].sum().sort_values(ascending=True).head(5)"
   ]
  },
  {
   "cell_type": "code",
   "execution_count": 33,
   "metadata": {},
   "outputs": [
    {
     "data": {
      "text/html": [
       "<div>\n",
       "<style scoped>\n",
       "    .dataframe tbody tr th:only-of-type {\n",
       "        vertical-align: middle;\n",
       "    }\n",
       "\n",
       "    .dataframe tbody tr th {\n",
       "        vertical-align: top;\n",
       "    }\n",
       "\n",
       "    .dataframe thead th {\n",
       "        text-align: right;\n",
       "    }\n",
       "</style>\n",
       "<table border=\"1\" class=\"dataframe\">\n",
       "  <thead>\n",
       "    <tr style=\"text-align: right;\">\n",
       "      <th></th>\n",
       "      <th>Store</th>\n",
       "      <th>Date</th>\n",
       "      <th>Weekly_Sales</th>\n",
       "      <th>Holiday_Flag</th>\n",
       "      <th>Temperature</th>\n",
       "      <th>Fuel_Price</th>\n",
       "      <th>CPI</th>\n",
       "      <th>Unemployment</th>\n",
       "      <th>year</th>\n",
       "      <th>month</th>\n",
       "    </tr>\n",
       "  </thead>\n",
       "  <tbody>\n",
       "    <tr>\n",
       "      <th>4599</th>\n",
       "      <td>33</td>\n",
       "      <td>2010-07-16</td>\n",
       "      <td>280937.84</td>\n",
       "      <td>0</td>\n",
       "      <td>100.14</td>\n",
       "      <td>2.97</td>\n",
       "      <td>126.15</td>\n",
       "      <td>9.49</td>\n",
       "      <td>2010</td>\n",
       "      <td>7</td>\n",
       "    </tr>\n",
       "    <tr>\n",
       "      <th>4707</th>\n",
       "      <td>33</td>\n",
       "      <td>2012-10-08</td>\n",
       "      <td>297753.49</td>\n",
       "      <td>0</td>\n",
       "      <td>100.07</td>\n",
       "      <td>3.81</td>\n",
       "      <td>130.76</td>\n",
       "      <td>7.15</td>\n",
       "      <td>2012</td>\n",
       "      <td>10</td>\n",
       "    </tr>\n",
       "  </tbody>\n",
       "</table>\n",
       "</div>"
      ],
      "text/plain": [
       "      Store       Date  Weekly_Sales  Holiday_Flag  Temperature  Fuel_Price  \\\n",
       "4599     33 2010-07-16     280937.84             0       100.14        2.97   \n",
       "4707     33 2012-10-08     297753.49             0       100.07        3.81   \n",
       "\n",
       "        CPI  Unemployment  year  month  \n",
       "4599 126.15          9.49  2010      7  \n",
       "4707 130.76          7.15  2012     10  "
      ]
     },
     "execution_count": 33,
     "metadata": {},
     "output_type": "execute_result"
    }
   ],
   "source": [
    "Store[(Store['Temperature'] >= 100)]"
   ]
  },
  {
   "cell_type": "code",
   "execution_count": 34,
   "metadata": {},
   "outputs": [
    {
     "data": {
      "text/html": [
       "<div>\n",
       "<style scoped>\n",
       "    .dataframe tbody tr th:only-of-type {\n",
       "        vertical-align: middle;\n",
       "    }\n",
       "\n",
       "    .dataframe tbody tr th {\n",
       "        vertical-align: top;\n",
       "    }\n",
       "\n",
       "    .dataframe thead th {\n",
       "        text-align: right;\n",
       "    }\n",
       "</style>\n",
       "<table border=\"1\" class=\"dataframe\">\n",
       "  <thead>\n",
       "    <tr style=\"text-align: right;\">\n",
       "      <th></th>\n",
       "      <th>Store</th>\n",
       "      <th>Date</th>\n",
       "      <th>Weekly_Sales</th>\n",
       "      <th>Holiday_Flag</th>\n",
       "      <th>Temperature</th>\n",
       "      <th>Fuel_Price</th>\n",
       "      <th>CPI</th>\n",
       "      <th>Unemployment</th>\n",
       "      <th>year</th>\n",
       "      <th>month</th>\n",
       "    </tr>\n",
       "  </thead>\n",
       "  <tbody>\n",
       "    <tr>\n",
       "      <th>910</th>\n",
       "      <td>7</td>\n",
       "      <td>2011-04-02</td>\n",
       "      <td>558027.77</td>\n",
       "      <td>0</td>\n",
       "      <td>-2.06</td>\n",
       "      <td>3.01</td>\n",
       "      <td>191.76</td>\n",
       "      <td>8.82</td>\n",
       "      <td>2011</td>\n",
       "      <td>4</td>\n",
       "    </tr>\n",
       "  </tbody>\n",
       "</table>\n",
       "</div>"
      ],
      "text/plain": [
       "     Store       Date  Weekly_Sales  Holiday_Flag  Temperature  Fuel_Price  \\\n",
       "910      7 2011-04-02     558027.77             0        -2.06        3.01   \n",
       "\n",
       "       CPI  Unemployment  year  month  \n",
       "910 191.76          8.82  2011      4  "
      ]
     },
     "execution_count": 34,
     "metadata": {},
     "output_type": "execute_result"
    }
   ],
   "source": [
    "Store[(Store['Temperature'] <= 0)]"
   ]
  },
  {
   "cell_type": "code",
   "execution_count": 35,
   "metadata": {},
   "outputs": [
    {
     "data": {
      "text/html": [
       "<div>\n",
       "<style scoped>\n",
       "    .dataframe tbody tr th:only-of-type {\n",
       "        vertical-align: middle;\n",
       "    }\n",
       "\n",
       "    .dataframe tbody tr th {\n",
       "        vertical-align: top;\n",
       "    }\n",
       "\n",
       "    .dataframe thead th {\n",
       "        text-align: right;\n",
       "    }\n",
       "</style>\n",
       "<table border=\"1\" class=\"dataframe\">\n",
       "  <thead>\n",
       "    <tr style=\"text-align: right;\">\n",
       "      <th></th>\n",
       "      <th>Store</th>\n",
       "      <th>Date</th>\n",
       "      <th>Weekly_Sales</th>\n",
       "      <th>Holiday_Flag</th>\n",
       "      <th>Temperature</th>\n",
       "      <th>Fuel_Price</th>\n",
       "      <th>CPI</th>\n",
       "      <th>Unemployment</th>\n",
       "      <th>year</th>\n",
       "      <th>month</th>\n",
       "    </tr>\n",
       "  </thead>\n",
       "  <tbody>\n",
       "    <tr>\n",
       "      <th>1427</th>\n",
       "      <td>10</td>\n",
       "      <td>2012-12-10</td>\n",
       "      <td>1713889.11</td>\n",
       "      <td>0</td>\n",
       "      <td>76.03</td>\n",
       "      <td>4.47</td>\n",
       "      <td>131.11</td>\n",
       "      <td>6.94</td>\n",
       "      <td>2012</td>\n",
       "      <td>12</td>\n",
       "    </tr>\n",
       "    <tr>\n",
       "      <th>1713</th>\n",
       "      <td>12</td>\n",
       "      <td>2012-12-10</td>\n",
       "      <td>934917.47</td>\n",
       "      <td>0</td>\n",
       "      <td>71.74</td>\n",
       "      <td>4.47</td>\n",
       "      <td>131.11</td>\n",
       "      <td>10.20</td>\n",
       "      <td>2012</td>\n",
       "      <td>12</td>\n",
       "    </tr>\n",
       "    <tr>\n",
       "      <th>4001</th>\n",
       "      <td>28</td>\n",
       "      <td>2012-12-10</td>\n",
       "      <td>1205536.71</td>\n",
       "      <td>0</td>\n",
       "      <td>71.74</td>\n",
       "      <td>4.47</td>\n",
       "      <td>131.11</td>\n",
       "      <td>10.20</td>\n",
       "      <td>2012</td>\n",
       "      <td>12</td>\n",
       "    </tr>\n",
       "    <tr>\n",
       "      <th>4716</th>\n",
       "      <td>33</td>\n",
       "      <td>2012-12-10</td>\n",
       "      <td>291781.15</td>\n",
       "      <td>0</td>\n",
       "      <td>79.64</td>\n",
       "      <td>4.47</td>\n",
       "      <td>131.11</td>\n",
       "      <td>6.89</td>\n",
       "      <td>2012</td>\n",
       "      <td>12</td>\n",
       "    </tr>\n",
       "    <tr>\n",
       "      <th>5431</th>\n",
       "      <td>38</td>\n",
       "      <td>2012-12-10</td>\n",
       "      <td>437320.66</td>\n",
       "      <td>0</td>\n",
       "      <td>71.74</td>\n",
       "      <td>4.47</td>\n",
       "      <td>131.11</td>\n",
       "      <td>10.20</td>\n",
       "      <td>2012</td>\n",
       "      <td>12</td>\n",
       "    </tr>\n",
       "    <tr>\n",
       "      <th>6003</th>\n",
       "      <td>42</td>\n",
       "      <td>2012-12-10</td>\n",
       "      <td>612379.90</td>\n",
       "      <td>0</td>\n",
       "      <td>76.03</td>\n",
       "      <td>4.47</td>\n",
       "      <td>131.11</td>\n",
       "      <td>6.94</td>\n",
       "      <td>2012</td>\n",
       "      <td>12</td>\n",
       "    </tr>\n",
       "  </tbody>\n",
       "</table>\n",
       "</div>"
      ],
      "text/plain": [
       "      Store       Date  Weekly_Sales  Holiday_Flag  Temperature  Fuel_Price  \\\n",
       "1427     10 2012-12-10    1713889.11             0        76.03        4.47   \n",
       "1713     12 2012-12-10     934917.47             0        71.74        4.47   \n",
       "4001     28 2012-12-10    1205536.71             0        71.74        4.47   \n",
       "4716     33 2012-12-10     291781.15             0        79.64        4.47   \n",
       "5431     38 2012-12-10     437320.66             0        71.74        4.47   \n",
       "6003     42 2012-12-10     612379.90             0        76.03        4.47   \n",
       "\n",
       "        CPI  Unemployment  year  month  \n",
       "1427 131.11          6.94  2012     12  \n",
       "1713 131.11         10.20  2012     12  \n",
       "4001 131.11         10.20  2012     12  \n",
       "4716 131.11          6.89  2012     12  \n",
       "5431 131.11         10.20  2012     12  \n",
       "6003 131.11          6.94  2012     12  "
      ]
     },
     "execution_count": 35,
     "metadata": {},
     "output_type": "execute_result"
    }
   ],
   "source": [
    "Store[(Store['Fuel_Price'] >= 4.45)]"
   ]
  },
  {
   "cell_type": "code",
   "execution_count": 36,
   "metadata": {},
   "outputs": [
    {
     "data": {
      "text/html": [
       "<div>\n",
       "<style scoped>\n",
       "    .dataframe tbody tr th:only-of-type {\n",
       "        vertical-align: middle;\n",
       "    }\n",
       "\n",
       "    .dataframe tbody tr th {\n",
       "        vertical-align: top;\n",
       "    }\n",
       "\n",
       "    .dataframe thead th {\n",
       "        text-align: right;\n",
       "    }\n",
       "</style>\n",
       "<table border=\"1\" class=\"dataframe\">\n",
       "  <thead>\n",
       "    <tr style=\"text-align: right;\">\n",
       "      <th></th>\n",
       "      <th>Store</th>\n",
       "      <th>Date</th>\n",
       "      <th>Weekly_Sales</th>\n",
       "      <th>Holiday_Flag</th>\n",
       "      <th>Temperature</th>\n",
       "      <th>Fuel_Price</th>\n",
       "      <th>CPI</th>\n",
       "      <th>Unemployment</th>\n",
       "      <th>year</th>\n",
       "      <th>month</th>\n",
       "    </tr>\n",
       "  </thead>\n",
       "  <tbody>\n",
       "    <tr>\n",
       "      <th>5007</th>\n",
       "      <td>36</td>\n",
       "      <td>2010-02-19</td>\n",
       "      <td>470281.03</td>\n",
       "      <td>0</td>\n",
       "      <td>45.66</td>\n",
       "      <td>2.47</td>\n",
       "      <td>210.05</td>\n",
       "      <td>8.55</td>\n",
       "      <td>2010</td>\n",
       "      <td>2</td>\n",
       "    </tr>\n",
       "  </tbody>\n",
       "</table>\n",
       "</div>"
      ],
      "text/plain": [
       "      Store       Date  Weekly_Sales  Holiday_Flag  Temperature  Fuel_Price  \\\n",
       "5007     36 2010-02-19     470281.03             0        45.66        2.47   \n",
       "\n",
       "        CPI  Unemployment  year  month  \n",
       "5007 210.05          8.55  2010      2  "
      ]
     },
     "execution_count": 36,
     "metadata": {},
     "output_type": "execute_result"
    }
   ],
   "source": [
    "Store[(Store['Fuel_Price'] <= 2.48)]"
   ]
  },
  {
   "cell_type": "code",
   "execution_count": 37,
   "metadata": {},
   "outputs": [
    {
     "data": {
      "text/plain": [
       "<AxesSubplot:xlabel='year'>"
      ]
     },
     "execution_count": 37,
     "metadata": {},
     "output_type": "execute_result"
    },
    {
     "data": {
      "image/png": "[encoded data removed]",
      "text/plain": [
       "<Figure size 432x288 with 1 Axes>"
      ]
     },
     "metadata": {
      "needs_background": "light"
     },
     "output_type": "display_data"
    }
   ],
   "source": [
    "Store.groupby('year')['Weekly_Sales'].sum().plot(kind='bar')"
   ]
  },
  {
   "cell_type": "code",
   "execution_count": 38,
   "metadata": {},
   "outputs": [
    {
     "data": {
      "text/plain": [
       "<AxesSubplot:xlabel='month'>"
      ]
     },
     "execution_count": 38,
     "metadata": {},
     "output_type": "execute_result"
    },
    {
     "data": {
      "image/png": "[encoded data removed]",
      "text/plain": [
       "<Figure size 432x288 with 1 Axes>"
      ]
     },
     "metadata": {
      "needs_background": "light"
     },
     "output_type": "display_data"
    }
   ],
   "source": [
    "Store[(Store['year'] == 2012)].groupby('month')['Weekly_Sales'].sum().plot(kind='bar')"
   ]
  },
  {
   "cell_type": "code",
   "execution_count": 39,
   "metadata": {},
   "outputs": [
    {
     "data": {
      "text/plain": [
       "<AxesSubplot:xlabel='month'>"
      ]
     },
     "execution_count": 39,
     "metadata": {},
     "output_type": "execute_result"
    },
    {
     "data": {
      "image/png": "[encoded data removed]",
      "text/plain": [
       "<Figure size 432x288 with 1 Axes>"
      ]
     },
     "metadata": {
      "needs_background": "light"
     },
     "output_type": "display_data"
    }
   ],
   "source": [
    "Store[(Store['year'] == 2011)].groupby('month')['Weekly_Sales'].sum().plot(kind='bar')"
   ]
  },
  {
   "cell_type": "code",
   "execution_count": 40,
   "metadata": {},
   "outputs": [
    {
     "data": {
      "text/plain": [
       "<AxesSubplot:xlabel='month'>"
      ]
     },
     "execution_count": 40,
     "metadata": {},
     "output_type": "execute_result"
    },
    {
     "data": {
      "image/png": "[encoded data removed]",
      "text/plain": [
       "<Figure size 432x288 with 1 Axes>"
      ]
     },
     "metadata": {
      "needs_background": "light"
     },
     "output_type": "display_data"
    }
   ],
   "source": [
    "Store[(Store['year'] == 2010)].groupby('month')['Weekly_Sales'].sum().plot(kind='bar')"
   ]
  },
  {
   "cell_type": "code",
   "execution_count": 41,
   "metadata": {},
   "outputs": [
    {
     "data": {
      "text/plain": [
       "<AxesSubplot:xlabel='year'>"
      ]
     },
     "execution_count": 41,
     "metadata": {},
     "output_type": "execute_result"
    },
    {
     "data": {
      "image/png": "[encoded data removed]",
      "text/plain": [
       "<Figure size 432x288 with 1 Axes>"
      ]
     },
     "metadata": {
      "needs_background": "light"
     },
     "output_type": "display_data"
    }
   ],
   "source": [
    "Store.groupby('year')['Unemployment'].sum().sort_values(ascending=False).plot(kind='bar')"
   ]
  },
  {
   "cell_type": "code",
   "execution_count": 42,
   "metadata": {},
   "outputs": [
    {
     "data": {
      "text/plain": [
       "<AxesSubplot:xlabel='month'>"
      ]
     },
     "execution_count": 42,
     "metadata": {},
     "output_type": "execute_result"
    },
    {
     "data": {
      "image/png": "[encoded data removed]",
      "text/plain": [
       "<Figure size 432x288 with 1 Axes>"
      ]
     },
     "metadata": {
      "needs_background": "light"
     },
     "output_type": "display_data"
    }
   ],
   "source": [
    "Store[(Store['year'] == 2010)].groupby('month')['Unemployment'].sum().sort_values(ascending=False).plot(kind='bar')"
   ]
  },
  {
   "cell_type": "code",
   "execution_count": 43,
   "metadata": {},
   "outputs": [
    {
     "data": {
      "text/plain": [
       "<AxesSubplot:xlabel='month'>"
      ]
     },
     "execution_count": 43,
     "metadata": {},
     "output_type": "execute_result"
    },
    {
     "data": {
      "image/png": "[encoded data removed]",
      "text/plain": [
       "<Figure size 432x288 with 1 Axes>"
      ]
     },
     "metadata": {
      "needs_background": "light"
     },
     "output_type": "display_data"
    }
   ],
   "source": [
    "Store[(Store['year'] == 2011)].groupby('month')['Unemployment'].sum().sort_values(ascending=False).plot(kind='bar')"
   ]
  },
  {
   "cell_type": "code",
   "execution_count": 44,
   "metadata": {},
   "outputs": [
    {
     "data": {
      "text/plain": [
       "<AxesSubplot:xlabel='month'>"
      ]
     },
     "execution_count": 44,
     "metadata": {},
     "output_type": "execute_result"
    },
    {
     "data": {
      "image/png": "[encoded data removed]",
      "text/plain": [
       "<Figure size 432x288 with 1 Axes>"
      ]
     },
     "metadata": {
      "needs_background": "light"
     },
     "output_type": "display_data"
    }
   ],
   "source": [
    "Store[(Store['year'] == 2012)].groupby('month')['Unemployment'].sum().sort_values(ascending=False).plot(kind='bar')"
   ]
  },
  {
   "cell_type": "markdown",
   "metadata": {},
   "source": [
    "#### Notes:\n",
    "\n",
    "The date with highest sales is?\n",
    "\n",
    "> The date with the highest Sales was 2010-December-24 and the date with least Sales was 2011-January-28\n",
    "\n",
    "Which Date had the warmer and the cooler temperature, it went in holiday? What's the mean?\n",
    "\n",
    "> Store 33, 2010-07-16 and 2012-10-08 had the warmer days with a 100f, Store 07, 2011-04-02 had the coldest day with -2f, the median temperature is 60f\n",
    "\n",
    "Which date had the maximum and the minimum fuel price, what's the mean?\n",
    "\n",
    "> 2012-12-10 had the highest fuel price with 4.47, 2010-02-19 had the least fuel price with 2.47, the mean fuel price is 3.36\n",
    "\n",
    "Which Year had the more and less sales, and the more and less unemployment\n",
    "\n",
    "> The year with the highest sales was 2011 and the year with least sales was 2012 **sales decrease**\n",
    "\n",
    "> The year with the highest unemployment was 2011 and the year with the least unemployment was 2012 **unemployment decrease**\n",
    "\n",
    "Which month had the more and less Sales, and the more and less unemployment\n",
    "\n",
    "> 2010 had the highest sales in December, 2011 had the highest sales in April, 2012 had the highest sales in April\n",
    "\n",
    "> 2010 had the highest unemployment in May, 2011 had the highest unemployment in April, 2012 had the highest unemployment in June"
   ]
  },
  {
   "cell_type": "markdown",
   "metadata": {},
   "source": [
    "---"
   ]
  },
  {
   "cell_type": "code",
   "execution_count": 45,
   "metadata": {},
   "outputs": [
    {
     "data": {
      "text/html": [
       "<div>\n",
       "<style scoped>\n",
       "    .dataframe tbody tr th:only-of-type {\n",
       "        vertical-align: middle;\n",
       "    }\n",
       "\n",
       "    .dataframe tbody tr th {\n",
       "        vertical-align: top;\n",
       "    }\n",
       "\n",
       "    .dataframe thead th {\n",
       "        text-align: right;\n",
       "    }\n",
       "</style>\n",
       "<table border=\"1\" class=\"dataframe\">\n",
       "  <thead>\n",
       "    <tr style=\"text-align: right;\">\n",
       "      <th></th>\n",
       "      <th>Store</th>\n",
       "      <th>Date</th>\n",
       "      <th>Weekly_Sales</th>\n",
       "      <th>Holiday_Flag</th>\n",
       "      <th>Temperature</th>\n",
       "      <th>Fuel_Price</th>\n",
       "      <th>CPI</th>\n",
       "      <th>Unemployment</th>\n",
       "      <th>year</th>\n",
       "      <th>month</th>\n",
       "    </tr>\n",
       "  </thead>\n",
       "  <tbody>\n",
       "    <tr>\n",
       "      <th>0</th>\n",
       "      <td>1</td>\n",
       "      <td>2010-05-02</td>\n",
       "      <td>1643690.90</td>\n",
       "      <td>0</td>\n",
       "      <td>42.31</td>\n",
       "      <td>2.57</td>\n",
       "      <td>211.10</td>\n",
       "      <td>8.11</td>\n",
       "      <td>2010</td>\n",
       "      <td>5</td>\n",
       "    </tr>\n",
       "    <tr>\n",
       "      <th>1</th>\n",
       "      <td>1</td>\n",
       "      <td>2010-12-02</td>\n",
       "      <td>1641957.44</td>\n",
       "      <td>1</td>\n",
       "      <td>38.51</td>\n",
       "      <td>2.55</td>\n",
       "      <td>211.24</td>\n",
       "      <td>8.11</td>\n",
       "      <td>2010</td>\n",
       "      <td>12</td>\n",
       "    </tr>\n",
       "    <tr>\n",
       "      <th>2</th>\n",
       "      <td>1</td>\n",
       "      <td>2010-02-19</td>\n",
       "      <td>1611968.17</td>\n",
       "      <td>0</td>\n",
       "      <td>39.93</td>\n",
       "      <td>2.51</td>\n",
       "      <td>211.29</td>\n",
       "      <td>8.11</td>\n",
       "      <td>2010</td>\n",
       "      <td>2</td>\n",
       "    </tr>\n",
       "    <tr>\n",
       "      <th>3</th>\n",
       "      <td>1</td>\n",
       "      <td>2010-02-26</td>\n",
       "      <td>1409727.59</td>\n",
       "      <td>0</td>\n",
       "      <td>46.63</td>\n",
       "      <td>2.56</td>\n",
       "      <td>211.32</td>\n",
       "      <td>8.11</td>\n",
       "      <td>2010</td>\n",
       "      <td>2</td>\n",
       "    </tr>\n",
       "    <tr>\n",
       "      <th>4</th>\n",
       "      <td>1</td>\n",
       "      <td>2010-05-03</td>\n",
       "      <td>1554806.68</td>\n",
       "      <td>0</td>\n",
       "      <td>46.50</td>\n",
       "      <td>2.62</td>\n",
       "      <td>211.35</td>\n",
       "      <td>8.11</td>\n",
       "      <td>2010</td>\n",
       "      <td>5</td>\n",
       "    </tr>\n",
       "    <tr>\n",
       "      <th>...</th>\n",
       "      <td>...</td>\n",
       "      <td>...</td>\n",
       "      <td>...</td>\n",
       "      <td>...</td>\n",
       "      <td>...</td>\n",
       "      <td>...</td>\n",
       "      <td>...</td>\n",
       "      <td>...</td>\n",
       "      <td>...</td>\n",
       "      <td>...</td>\n",
       "    </tr>\n",
       "    <tr>\n",
       "      <th>6430</th>\n",
       "      <td>45</td>\n",
       "      <td>2012-09-28</td>\n",
       "      <td>713173.95</td>\n",
       "      <td>0</td>\n",
       "      <td>64.88</td>\n",
       "      <td>4.00</td>\n",
       "      <td>192.01</td>\n",
       "      <td>8.68</td>\n",
       "      <td>2012</td>\n",
       "      <td>9</td>\n",
       "    </tr>\n",
       "    <tr>\n",
       "      <th>6431</th>\n",
       "      <td>45</td>\n",
       "      <td>2012-05-10</td>\n",
       "      <td>733455.07</td>\n",
       "      <td>0</td>\n",
       "      <td>64.89</td>\n",
       "      <td>3.98</td>\n",
       "      <td>192.17</td>\n",
       "      <td>8.67</td>\n",
       "      <td>2012</td>\n",
       "      <td>5</td>\n",
       "    </tr>\n",
       "    <tr>\n",
       "      <th>6432</th>\n",
       "      <td>45</td>\n",
       "      <td>2012-12-10</td>\n",
       "      <td>734464.36</td>\n",
       "      <td>0</td>\n",
       "      <td>54.47</td>\n",
       "      <td>4.00</td>\n",
       "      <td>192.33</td>\n",
       "      <td>8.67</td>\n",
       "      <td>2012</td>\n",
       "      <td>12</td>\n",
       "    </tr>\n",
       "    <tr>\n",
       "      <th>6433</th>\n",
       "      <td>45</td>\n",
       "      <td>2012-10-19</td>\n",
       "      <td>718125.53</td>\n",
       "      <td>0</td>\n",
       "      <td>56.47</td>\n",
       "      <td>3.97</td>\n",
       "      <td>192.33</td>\n",
       "      <td>8.67</td>\n",
       "      <td>2012</td>\n",
       "      <td>10</td>\n",
       "    </tr>\n",
       "    <tr>\n",
       "      <th>6434</th>\n",
       "      <td>45</td>\n",
       "      <td>2012-10-26</td>\n",
       "      <td>760281.43</td>\n",
       "      <td>0</td>\n",
       "      <td>58.85</td>\n",
       "      <td>3.88</td>\n",
       "      <td>192.31</td>\n",
       "      <td>8.67</td>\n",
       "      <td>2012</td>\n",
       "      <td>10</td>\n",
       "    </tr>\n",
       "  </tbody>\n",
       "</table>\n",
       "<p>6435 rows × 10 columns</p>\n",
       "</div>"
      ],
      "text/plain": [
       "      Store       Date  Weekly_Sales  Holiday_Flag  Temperature  Fuel_Price  \\\n",
       "0         1 2010-05-02    1643690.90             0        42.31        2.57   \n",
       "1         1 2010-12-02    1641957.44             1        38.51        2.55   \n",
       "2         1 2010-02-19    1611968.17             0        39.93        2.51   \n",
       "3         1 2010-02-26    1409727.59             0        46.63        2.56   \n",
       "4         1 2010-05-03    1554806.68             0        46.50        2.62   \n",
       "...     ...        ...           ...           ...          ...         ...   \n",
       "6430     45 2012-09-28     713173.95             0        64.88        4.00   \n",
       "6431     45 2012-05-10     733455.07             0        64.89        3.98   \n",
       "6432     45 2012-12-10     734464.36             0        54.47        4.00   \n",
       "6433     45 2012-10-19     718125.53             0        56.47        3.97   \n",
       "6434     45 2012-10-26     760281.43             0        58.85        3.88   \n",
       "\n",
       "        CPI  Unemployment  year  month  \n",
       "0    211.10          8.11  2010      5  \n",
       "1    211.24          8.11  2010     12  \n",
       "2    211.29          8.11  2010      2  \n",
       "3    211.32          8.11  2010      2  \n",
       "4    211.35          8.11  2010      5  \n",
       "...     ...           ...   ...    ...  \n",
       "6430 192.01          8.68  2012      9  \n",
       "6431 192.17          8.67  2012      5  \n",
       "6432 192.33          8.67  2012     12  \n",
       "6433 192.33          8.67  2012     10  \n",
       "6434 192.31          8.67  2012     10  \n",
       "\n",
       "[6435 rows x 10 columns]"
      ]
     },
     "execution_count": 45,
     "metadata": {},
     "output_type": "execute_result"
    }
   ],
   "source": [
    "Store"
   ]
  },
  {
   "cell_type": "code",
   "execution_count": 46,
   "metadata": {},
   "outputs": [
    {
     "data": {
      "text/plain": [
       "0   93.01\n",
       "1    6.99\n",
       "Name: Holiday_Flag, dtype: float64"
      ]
     },
     "execution_count": 46,
     "metadata": {},
     "output_type": "execute_result"
    }
   ],
   "source": [
    "Store['Holiday_Flag'].value_counts()/len(Store)*100"
   ]
  },
  {
   "cell_type": "code",
   "execution_count": 47,
   "metadata": {},
   "outputs": [
    {
     "data": {
      "text/plain": [
       "<seaborn.axisgrid.FacetGrid at 0x1e5fb597100>"
      ]
     },
     "execution_count": 47,
     "metadata": {},
     "output_type": "execute_result"
    },
    {
     "data": {
      "image/png": "[encoded data removed]",
      "text/plain": [
       "<Figure size 360x360 with 1 Axes>"
      ]
     },
     "metadata": {
      "needs_background": "light"
     },
     "output_type": "display_data"
    }
   ],
   "source": [
    "sns.catplot(x=\"Holiday_Flag\", kind=\"count\", data=Store)"
   ]
  },
  {
   "cell_type": "code",
   "execution_count": 48,
   "metadata": {},
   "outputs": [
    {
     "data": {
      "text/plain": [
       "Holiday_Flag\n",
       "0   6231919435.55\n",
       "1    505299551.56\n",
       "Name: Weekly_Sales, dtype: float64"
      ]
     },
     "execution_count": 48,
     "metadata": {},
     "output_type": "execute_result"
    }
   ],
   "source": [
    "Store.groupby('Holiday_Flag')['Weekly_Sales'].sum()"
   ]
  },
  {
   "cell_type": "code",
   "execution_count": 49,
   "metadata": {},
   "outputs": [
    {
     "name": "stderr",
     "output_type": "stream",
     "text": [
      "<ipython-input-49-f6c31055cffe>:1: FutureWarning: DataFrame.mean and DataFrame.median with numeric_only=None will include datetime64 and datetime64tz columns in a future version.\n",
      "  Store[(Store['Holiday_Flag'] == 1)].mean()\n"
     ]
    },
    {
     "data": {
      "text/plain": [
       "Store               23.00\n",
       "Weekly_Sales   1122887.89\n",
       "Holiday_Flag         1.00\n",
       "Temperature         50.23\n",
       "Fuel_Price           3.23\n",
       "CPI                171.27\n",
       "Unemployment         8.07\n",
       "year              2010.80\n",
       "month               10.50\n",
       "dtype: float64"
      ]
     },
     "execution_count": 49,
     "metadata": {},
     "output_type": "execute_result"
    }
   ],
   "source": [
    "Store[(Store['Holiday_Flag'] == 1)].mean()"
   ]
  },
  {
   "cell_type": "code",
   "execution_count": 50,
   "metadata": {},
   "outputs": [],
   "source": [
    "hol = Store[(Store['Holiday_Flag'] == 1)]"
   ]
  },
  {
   "cell_type": "code",
   "execution_count": 51,
   "metadata": {},
   "outputs": [],
   "source": [
    "#Super Bowl: 12-Feb-10, 11-Feb-11, 10-Feb-12, 8-Feb-13\n",
    "SB = hol[(hol['month'] == 2)]"
   ]
  },
  {
   "cell_type": "code",
   "execution_count": 52,
   "metadata": {},
   "outputs": [],
   "source": [
    "#Labour Day: 10-Sep-10, 9-Sep-11, 7-Sep-12, 6-Sep-13\n",
    "LD = hol[(hol['month'] == 9)]"
   ]
  },
  {
   "cell_type": "code",
   "execution_count": 53,
   "metadata": {},
   "outputs": [],
   "source": [
    "#Thanksgiving: 26-Nov-10, 25-Nov-11, 23-Nov-12, 29-Nov-13\n",
    "T = hol[(hol['month'] == 11)]"
   ]
  },
  {
   "cell_type": "code",
   "execution_count": 54,
   "metadata": {},
   "outputs": [],
   "source": [
    "#Christmas: 31-Dec-10, 30-Dec-11, 28-Dec-12, 27-Dec-13\n",
    "C = hol[(hol['month'] == 12)]"
   ]
  },
  {
   "cell_type": "code",
   "execution_count": 55,
   "metadata": {},
   "outputs": [
    {
     "data": {
      "text/plain": [
       "<AxesSubplot:xlabel='month'>"
      ]
     },
     "execution_count": 55,
     "metadata": {},
     "output_type": "execute_result"
    },
    {
     "data": {
      "image/png": "[encoded data removed]",
      "text/plain": [
       "<Figure size 432x288 with 1 Axes>"
      ]
     },
     "metadata": {
      "needs_background": "light"
     },
     "output_type": "display_data"
    }
   ],
   "source": [
    "hol[(hol['year'] == 2010)].groupby('month')['Weekly_Sales'].sum().plot(kind='bar')"
   ]
  },
  {
   "cell_type": "code",
   "execution_count": 56,
   "metadata": {},
   "outputs": [
    {
     "data": {
      "text/plain": [
       "<AxesSubplot:xlabel='month'>"
      ]
     },
     "execution_count": 56,
     "metadata": {},
     "output_type": "execute_result"
    },
    {
     "data": {
      "image/png": "[encoded data removed]",
      "text/plain": [
       "<Figure size 432x288 with 1 Axes>"
      ]
     },
     "metadata": {
      "needs_background": "light"
     },
     "output_type": "display_data"
    }
   ],
   "source": [
    "hol[(hol['year'] == 2011)].groupby('month')['Weekly_Sales'].sum().plot(kind='bar')"
   ]
  },
  {
   "cell_type": "code",
   "execution_count": 57,
   "metadata": {},
   "outputs": [
    {
     "data": {
      "text/plain": [
       "<AxesSubplot:xlabel='month'>"
      ]
     },
     "execution_count": 57,
     "metadata": {},
     "output_type": "execute_result"
    },
    {
     "data": {
      "image/png": "[encoded data removed]",
      "text/plain": [
       "<Figure size 432x288 with 1 Axes>"
      ]
     },
     "metadata": {
      "needs_background": "light"
     },
     "output_type": "display_data"
    }
   ],
   "source": [
    "hol[(hol['year'] == 2012)].groupby('month')['Weekly_Sales'].sum().plot(kind='bar')"
   ]
  },
  {
   "cell_type": "code",
   "execution_count": 58,
   "metadata": {},
   "outputs": [
    {
     "name": "stderr",
     "output_type": "stream",
     "text": [
      "<ipython-input-58-159b82b41674>:1: FutureWarning: DataFrame.mean and DataFrame.median with numeric_only=None will include datetime64 and datetime64tz columns in a future version.\n",
      "  Store[(Store['Holiday_Flag'] == 0)].mean()\n"
     ]
    },
    {
     "data": {
      "text/plain": [
       "Store               23.00\n",
       "Weekly_Sales   1041256.38\n",
       "Holiday_Flag         0.00\n",
       "Temperature         61.45\n",
       "Fuel_Price           3.37\n",
       "CPI                171.60\n",
       "Unemployment         7.99\n",
       "year              2010.98\n",
       "month                6.17\n",
       "dtype: float64"
      ]
     },
     "execution_count": 58,
     "metadata": {},
     "output_type": "execute_result"
    }
   ],
   "source": [
    "Store[(Store['Holiday_Flag'] == 0)].mean()"
   ]
  },
  {
   "cell_type": "code",
   "execution_count": 59,
   "metadata": {},
   "outputs": [
    {
     "data": {
      "text/plain": [
       "998604.8716296293"
      ]
     },
     "execution_count": 59,
     "metadata": {},
     "output_type": "execute_result"
    }
   ],
   "source": [
    "C['Weekly_Sales'].mean()"
   ]
  },
  {
   "cell_type": "code",
   "execution_count": 60,
   "metadata": {},
   "outputs": [
    {
     "data": {
      "text/plain": [
       "1331487.4169629626"
      ]
     },
     "execution_count": 60,
     "metadata": {},
     "output_type": "execute_result"
    }
   ],
   "source": [
    "T['Weekly_Sales'].mean()"
   ]
  },
  {
   "cell_type": "code",
   "execution_count": 61,
   "metadata": {},
   "outputs": [
    {
     "data": {
      "text/plain": [
       "1039182.8339999999"
      ]
     },
     "execution_count": 61,
     "metadata": {},
     "output_type": "execute_result"
    }
   ],
   "source": [
    "LD['Weekly_Sales'].mean()"
   ]
  },
  {
   "cell_type": "code",
   "execution_count": 62,
   "metadata": {},
   "outputs": [
    {
     "data": {
      "text/plain": [
       "nan"
      ]
     },
     "execution_count": 62,
     "metadata": {},
     "output_type": "execute_result"
    }
   ],
   "source": [
    "SB['Weekly_Sales'].mean()"
   ]
  },
  {
   "cell_type": "code",
   "execution_count": 63,
   "metadata": {},
   "outputs": [
    {
     "data": {
      "text/plain": [
       "<AxesSubplot:xlabel='Date', ylabel='Weekly_Sales'>"
      ]
     },
     "execution_count": 63,
     "metadata": {},
     "output_type": "execute_result"
    },
    {
     "data": {
      "image/png": "[encoded data removed]",
      "text/plain": [
       "<Figure size 1080x432 with 1 Axes>"
      ]
     },
     "metadata": {
      "needs_background": "light"
     },
     "output_type": "display_data"
    }
   ],
   "source": [
    "#Super_Bowl \n",
    "plt.figure(figsize = (15,6))\n",
    "\n",
    "xposition = [pd.to_datetime('12-2-2010'), pd.to_datetime('11-2-2011'), pd.to_datetime('10-2-2012')]\n",
    "for xc in xposition:\n",
    "    plt.axvline(x=xc, color='r', linestyle='--')\n",
    "    \n",
    "sns.lineplot(x = 'Date', y = 'Weekly_Sales',data = Store)"
   ]
  },
  {
   "cell_type": "code",
   "execution_count": 64,
   "metadata": {},
   "outputs": [
    {
     "data": {
      "text/plain": [
       "<AxesSubplot:xlabel='Date', ylabel='Weekly_Sales'>"
      ]
     },
     "execution_count": 64,
     "metadata": {},
     "output_type": "execute_result"
    },
    {
     "data": {
      "image/png": "[encoded data removed]",
      "text/plain": [
       "<Figure size 1080x432 with 1 Axes>"
      ]
     },
     "metadata": {
      "needs_background": "light"
     },
     "output_type": "display_data"
    }
   ],
   "source": [
    "#Labors Day\n",
    "plt.figure(figsize = (15,6))\n",
    "\n",
    "xposition = [pd.to_datetime('10-9-2010'), pd.to_datetime('9-9-2011'), pd.to_datetime('7-9-2012')]\n",
    "for xc in xposition:\n",
    "    plt.axvline(x=xc, color='r', linestyle='--')\n",
    "    \n",
    "sns.lineplot(x = 'Date', y = 'Weekly_Sales',data = Store)"
   ]
  },
  {
   "cell_type": "code",
   "execution_count": 65,
   "metadata": {},
   "outputs": [
    {
     "data": {
      "text/plain": [
       "<AxesSubplot:xlabel='Date', ylabel='Weekly_Sales'>"
      ]
     },
     "execution_count": 65,
     "metadata": {},
     "output_type": "execute_result"
    },
    {
     "data": {
      "image/png": "[encoded data removed]",
      "text/plain": [
       "<Figure size 1080x432 with 1 Axes>"
      ]
     },
     "metadata": {
      "needs_background": "light"
     },
     "output_type": "display_data"
    }
   ],
   "source": [
    "#Thanksgiving \n",
    "plt.figure(figsize = (15,6))\n",
    "\n",
    "xposition = [pd.to_datetime('26-11-2010'), pd.to_datetime('25-11-2011'), pd.to_datetime('23-11-2012')]\n",
    "for xc in xposition:\n",
    "    plt.axvline(x=xc, color='r', linestyle='--')\n",
    "    \n",
    "sns.lineplot(x = 'Date', y = 'Weekly_Sales',data = Store)"
   ]
  },
  {
   "cell_type": "code",
   "execution_count": 66,
   "metadata": {},
   "outputs": [
    {
     "data": {
      "text/plain": [
       "<AxesSubplot:xlabel='Date', ylabel='Weekly_Sales'>"
      ]
     },
     "execution_count": 66,
     "metadata": {},
     "output_type": "execute_result"
    },
    {
     "data": {
      "image/png": "[encoded data removed]",
      "text/plain": [
       "<Figure size 1080x432 with 1 Axes>"
      ]
     },
     "metadata": {
      "needs_background": "light"
     },
     "output_type": "display_data"
    }
   ],
   "source": [
    "#Christmas  \n",
    "plt.figure(figsize = (15,6))\n",
    "\n",
    "xposition = [pd.to_datetime('31-12-2010'), pd.to_datetime('30-12-2011'), pd.to_datetime('28-12-2012')]\n",
    "for xc in xposition:\n",
    "    plt.axvline(x=xc, color='r', linestyle='--')\n",
    "    \n",
    "sns.lineplot(x = 'Date', y = 'Weekly_Sales',data = Store)"
   ]
  },
  {
   "cell_type": "markdown",
   "metadata": {},
   "source": [
    "#### Notes:\n",
    "Percentage of Holiday, sum sales per holiday and non holiday...\n",
    "> only 7% are holiday\n",
    "\n",
    "> Profits of 505,299,551 in holiday \n",
    "\n",
    "Mean temperature in holiday\n",
    "> 50f\n",
    "\n",
    "Some holidays have a negative impact on sales. Find out holidays which have higher sales than the mean sales in non-holiday season for all stores together\n",
    "> Overall suming in holidays sales, every holyday except Super Bowl, have higher sales than the mean sales in non-holiday season\n",
    "\n",
    "> while in the mean holiday sales, only Thanksgiving and Christmas have higher sales than the mean sales in non-holiday season\n",
    "\n",
    "> The sales increased during thanksgiving. And the sales decreased during christmas\n",
    "\n",
    "> Sales are increasing and decreasing over year in holidays\n"
   ]
  },
  {
   "cell_type": "markdown",
   "metadata": {},
   "source": [
    "---"
   ]
  },
  {
   "cell_type": "code",
   "execution_count": 67,
   "metadata": {},
   "outputs": [
    {
     "data": {
      "text/html": [
       "<div>\n",
       "<style scoped>\n",
       "    .dataframe tbody tr th:only-of-type {\n",
       "        vertical-align: middle;\n",
       "    }\n",
       "\n",
       "    .dataframe tbody tr th {\n",
       "        vertical-align: top;\n",
       "    }\n",
       "\n",
       "    .dataframe thead th {\n",
       "        text-align: right;\n",
       "    }\n",
       "</style>\n",
       "<table border=\"1\" class=\"dataframe\">\n",
       "  <thead>\n",
       "    <tr style=\"text-align: right;\">\n",
       "      <th></th>\n",
       "      <th>Store</th>\n",
       "      <th>Date</th>\n",
       "      <th>Weekly_Sales</th>\n",
       "      <th>Holiday_Flag</th>\n",
       "      <th>Temperature</th>\n",
       "      <th>Fuel_Price</th>\n",
       "      <th>CPI</th>\n",
       "      <th>Unemployment</th>\n",
       "      <th>year</th>\n",
       "      <th>month</th>\n",
       "    </tr>\n",
       "  </thead>\n",
       "  <tbody>\n",
       "    <tr>\n",
       "      <th>0</th>\n",
       "      <td>1</td>\n",
       "      <td>2010-05-02</td>\n",
       "      <td>1643690.90</td>\n",
       "      <td>0</td>\n",
       "      <td>42.31</td>\n",
       "      <td>2.57</td>\n",
       "      <td>211.10</td>\n",
       "      <td>8.11</td>\n",
       "      <td>2010</td>\n",
       "      <td>5</td>\n",
       "    </tr>\n",
       "    <tr>\n",
       "      <th>1</th>\n",
       "      <td>1</td>\n",
       "      <td>2010-12-02</td>\n",
       "      <td>1641957.44</td>\n",
       "      <td>1</td>\n",
       "      <td>38.51</td>\n",
       "      <td>2.55</td>\n",
       "      <td>211.24</td>\n",
       "      <td>8.11</td>\n",
       "      <td>2010</td>\n",
       "      <td>12</td>\n",
       "    </tr>\n",
       "    <tr>\n",
       "      <th>2</th>\n",
       "      <td>1</td>\n",
       "      <td>2010-02-19</td>\n",
       "      <td>1611968.17</td>\n",
       "      <td>0</td>\n",
       "      <td>39.93</td>\n",
       "      <td>2.51</td>\n",
       "      <td>211.29</td>\n",
       "      <td>8.11</td>\n",
       "      <td>2010</td>\n",
       "      <td>2</td>\n",
       "    </tr>\n",
       "    <tr>\n",
       "      <th>3</th>\n",
       "      <td>1</td>\n",
       "      <td>2010-02-26</td>\n",
       "      <td>1409727.59</td>\n",
       "      <td>0</td>\n",
       "      <td>46.63</td>\n",
       "      <td>2.56</td>\n",
       "      <td>211.32</td>\n",
       "      <td>8.11</td>\n",
       "      <td>2010</td>\n",
       "      <td>2</td>\n",
       "    </tr>\n",
       "    <tr>\n",
       "      <th>4</th>\n",
       "      <td>1</td>\n",
       "      <td>2010-05-03</td>\n",
       "      <td>1554806.68</td>\n",
       "      <td>0</td>\n",
       "      <td>46.50</td>\n",
       "      <td>2.62</td>\n",
       "      <td>211.35</td>\n",
       "      <td>8.11</td>\n",
       "      <td>2010</td>\n",
       "      <td>5</td>\n",
       "    </tr>\n",
       "    <tr>\n",
       "      <th>...</th>\n",
       "      <td>...</td>\n",
       "      <td>...</td>\n",
       "      <td>...</td>\n",
       "      <td>...</td>\n",
       "      <td>...</td>\n",
       "      <td>...</td>\n",
       "      <td>...</td>\n",
       "      <td>...</td>\n",
       "      <td>...</td>\n",
       "      <td>...</td>\n",
       "    </tr>\n",
       "    <tr>\n",
       "      <th>6430</th>\n",
       "      <td>45</td>\n",
       "      <td>2012-09-28</td>\n",
       "      <td>713173.95</td>\n",
       "      <td>0</td>\n",
       "      <td>64.88</td>\n",
       "      <td>4.00</td>\n",
       "      <td>192.01</td>\n",
       "      <td>8.68</td>\n",
       "      <td>2012</td>\n",
       "      <td>9</td>\n",
       "    </tr>\n",
       "    <tr>\n",
       "      <th>6431</th>\n",
       "      <td>45</td>\n",
       "      <td>2012-05-10</td>\n",
       "      <td>733455.07</td>\n",
       "      <td>0</td>\n",
       "      <td>64.89</td>\n",
       "      <td>3.98</td>\n",
       "      <td>192.17</td>\n",
       "      <td>8.67</td>\n",
       "      <td>2012</td>\n",
       "      <td>5</td>\n",
       "    </tr>\n",
       "    <tr>\n",
       "      <th>6432</th>\n",
       "      <td>45</td>\n",
       "      <td>2012-12-10</td>\n",
       "      <td>734464.36</td>\n",
       "      <td>0</td>\n",
       "      <td>54.47</td>\n",
       "      <td>4.00</td>\n",
       "      <td>192.33</td>\n",
       "      <td>8.67</td>\n",
       "      <td>2012</td>\n",
       "      <td>12</td>\n",
       "    </tr>\n",
       "    <tr>\n",
       "      <th>6433</th>\n",
       "      <td>45</td>\n",
       "      <td>2012-10-19</td>\n",
       "      <td>718125.53</td>\n",
       "      <td>0</td>\n",
       "      <td>56.47</td>\n",
       "      <td>3.97</td>\n",
       "      <td>192.33</td>\n",
       "      <td>8.67</td>\n",
       "      <td>2012</td>\n",
       "      <td>10</td>\n",
       "    </tr>\n",
       "    <tr>\n",
       "      <th>6434</th>\n",
       "      <td>45</td>\n",
       "      <td>2012-10-26</td>\n",
       "      <td>760281.43</td>\n",
       "      <td>0</td>\n",
       "      <td>58.85</td>\n",
       "      <td>3.88</td>\n",
       "      <td>192.31</td>\n",
       "      <td>8.67</td>\n",
       "      <td>2012</td>\n",
       "      <td>10</td>\n",
       "    </tr>\n",
       "  </tbody>\n",
       "</table>\n",
       "<p>6435 rows × 10 columns</p>\n",
       "</div>"
      ],
      "text/plain": [
       "      Store       Date  Weekly_Sales  Holiday_Flag  Temperature  Fuel_Price  \\\n",
       "0         1 2010-05-02    1643690.90             0        42.31        2.57   \n",
       "1         1 2010-12-02    1641957.44             1        38.51        2.55   \n",
       "2         1 2010-02-19    1611968.17             0        39.93        2.51   \n",
       "3         1 2010-02-26    1409727.59             0        46.63        2.56   \n",
       "4         1 2010-05-03    1554806.68             0        46.50        2.62   \n",
       "...     ...        ...           ...           ...          ...         ...   \n",
       "6430     45 2012-09-28     713173.95             0        64.88        4.00   \n",
       "6431     45 2012-05-10     733455.07             0        64.89        3.98   \n",
       "6432     45 2012-12-10     734464.36             0        54.47        4.00   \n",
       "6433     45 2012-10-19     718125.53             0        56.47        3.97   \n",
       "6434     45 2012-10-26     760281.43             0        58.85        3.88   \n",
       "\n",
       "        CPI  Unemployment  year  month  \n",
       "0    211.10          8.11  2010      5  \n",
       "1    211.24          8.11  2010     12  \n",
       "2    211.29          8.11  2010      2  \n",
       "3    211.32          8.11  2010      2  \n",
       "4    211.35          8.11  2010      5  \n",
       "...     ...           ...   ...    ...  \n",
       "6430 192.01          8.68  2012      9  \n",
       "6431 192.17          8.67  2012      5  \n",
       "6432 192.33          8.67  2012     12  \n",
       "6433 192.33          8.67  2012     10  \n",
       "6434 192.31          8.67  2012     10  \n",
       "\n",
       "[6435 rows x 10 columns]"
      ]
     },
     "execution_count": 67,
     "metadata": {},
     "output_type": "execute_result"
    }
   ],
   "source": [
    "Store"
   ]
  },
  {
   "cell_type": "markdown",
   "metadata": {},
   "source": [
    "##### check relations bettwen variables"
   ]
  },
  {
   "cell_type": "code",
   "execution_count": 68,
   "metadata": {},
   "outputs": [
    {
     "data": {
      "text/html": [
       "<style  type=\"text/css\" >\n",
       "#T_8611b3e4_1cac_11ec_bdff_de6525ea7c2erow0_col0,#T_8611b3e4_1cac_11ec_bdff_de6525ea7c2erow1_col1,#T_8611b3e4_1cac_11ec_bdff_de6525ea7c2erow2_col2,#T_8611b3e4_1cac_11ec_bdff_de6525ea7c2erow3_col3,#T_8611b3e4_1cac_11ec_bdff_de6525ea7c2erow4_col4,#T_8611b3e4_1cac_11ec_bdff_de6525ea7c2erow5_col5,#T_8611b3e4_1cac_11ec_bdff_de6525ea7c2erow6_col6,#T_8611b3e4_1cac_11ec_bdff_de6525ea7c2erow7_col7,#T_8611b3e4_1cac_11ec_bdff_de6525ea7c2erow8_col8{\n",
       "            background-color:  #b40426;\n",
       "            color:  #f1f1f1;\n",
       "        }#T_8611b3e4_1cac_11ec_bdff_de6525ea7c2erow0_col1,#T_8611b3e4_1cac_11ec_bdff_de6525ea7c2erow1_col0,#T_8611b3e4_1cac_11ec_bdff_de6525ea7c2erow2_col3,#T_8611b3e4_1cac_11ec_bdff_de6525ea7c2erow3_col2,#T_8611b3e4_1cac_11ec_bdff_de6525ea7c2erow4_col5,#T_8611b3e4_1cac_11ec_bdff_de6525ea7c2erow5_col6,#T_8611b3e4_1cac_11ec_bdff_de6525ea7c2erow6_col5,#T_8611b3e4_1cac_11ec_bdff_de6525ea7c2erow7_col6,#T_8611b3e4_1cac_11ec_bdff_de6525ea7c2erow8_col7{\n",
       "            background-color:  #3b4cc0;\n",
       "            color:  #f1f1f1;\n",
       "        }#T_8611b3e4_1cac_11ec_bdff_de6525ea7c2erow0_col2,#T_8611b3e4_1cac_11ec_bdff_de6525ea7c2erow0_col7,#T_8611b3e4_1cac_11ec_bdff_de6525ea7c2erow0_col8{\n",
       "            background-color:  #8db0fe;\n",
       "            color:  #000000;\n",
       "        }#T_8611b3e4_1cac_11ec_bdff_de6525ea7c2erow0_col3,#T_8611b3e4_1cac_11ec_bdff_de6525ea7c2erow5_col8{\n",
       "            background-color:  #86a9fc;\n",
       "            color:  #000000;\n",
       "        }#T_8611b3e4_1cac_11ec_bdff_de6525ea7c2erow0_col4{\n",
       "            background-color:  #9dbdff;\n",
       "            color:  #000000;\n",
       "        }#T_8611b3e4_1cac_11ec_bdff_de6525ea7c2erow0_col5{\n",
       "            background-color:  #5875e1;\n",
       "            color:  #000000;\n",
       "        }#T_8611b3e4_1cac_11ec_bdff_de6525ea7c2erow0_col6{\n",
       "            background-color:  #c6d6f1;\n",
       "            color:  #000000;\n",
       "        }#T_8611b3e4_1cac_11ec_bdff_de6525ea7c2erow1_col2{\n",
       "            background-color:  #97b8ff;\n",
       "            color:  #000000;\n",
       "        }#T_8611b3e4_1cac_11ec_bdff_de6525ea7c2erow1_col3,#T_8611b3e4_1cac_11ec_bdff_de6525ea7c2erow6_col4{\n",
       "            background-color:  #7da0f9;\n",
       "            color:  #000000;\n",
       "        }#T_8611b3e4_1cac_11ec_bdff_de6525ea7c2erow1_col4,#T_8611b3e4_1cac_11ec_bdff_de6525ea7c2erow3_col4{\n",
       "            background-color:  #90b2fe;\n",
       "            color:  #000000;\n",
       "        }#T_8611b3e4_1cac_11ec_bdff_de6525ea7c2erow1_col5,#T_8611b3e4_1cac_11ec_bdff_de6525ea7c2erow4_col0{\n",
       "            background-color:  #7a9df8;\n",
       "            color:  #000000;\n",
       "        }#T_8611b3e4_1cac_11ec_bdff_de6525ea7c2erow1_col6{\n",
       "            background-color:  #7093f3;\n",
       "            color:  #000000;\n",
       "        }#T_8611b3e4_1cac_11ec_bdff_de6525ea7c2erow1_col7{\n",
       "            background-color:  #88abfd;\n",
       "            color:  #000000;\n",
       "        }#T_8611b3e4_1cac_11ec_bdff_de6525ea7c2erow1_col8{\n",
       "            background-color:  #9fbfff;\n",
       "            color:  #000000;\n",
       "        }#T_8611b3e4_1cac_11ec_bdff_de6525ea7c2erow2_col0{\n",
       "            background-color:  #6485ec;\n",
       "            color:  #000000;\n",
       "        }#T_8611b3e4_1cac_11ec_bdff_de6525ea7c2erow2_col1{\n",
       "            background-color:  #6f92f3;\n",
       "            color:  #000000;\n",
       "        }#T_8611b3e4_1cac_11ec_bdff_de6525ea7c2erow2_col4{\n",
       "            background-color:  #4f69d9;\n",
       "            color:  #000000;\n",
       "        }#T_8611b3e4_1cac_11ec_bdff_de6525ea7c2erow2_col5{\n",
       "            background-color:  #6384eb;\n",
       "            color:  #000000;\n",
       "        }#T_8611b3e4_1cac_11ec_bdff_de6525ea7c2erow2_col6{\n",
       "            background-color:  #6788ee;\n",
       "            color:  #000000;\n",
       "        }#T_8611b3e4_1cac_11ec_bdff_de6525ea7c2erow2_col7,#T_8611b3e4_1cac_11ec_bdff_de6525ea7c2erow7_col8{\n",
       "            background-color:  #5470de;\n",
       "            color:  #000000;\n",
       "        }#T_8611b3e4_1cac_11ec_bdff_de6525ea7c2erow2_col8{\n",
       "            background-color:  #c7d7f0;\n",
       "            color:  #000000;\n",
       "        }#T_8611b3e4_1cac_11ec_bdff_de6525ea7c2erow3_col0,#T_8611b3e4_1cac_11ec_bdff_de6525ea7c2erow4_col6{\n",
       "            background-color:  #5e7de7;\n",
       "            color:  #000000;\n",
       "        }#T_8611b3e4_1cac_11ec_bdff_de6525ea7c2erow3_col1,#T_8611b3e4_1cac_11ec_bdff_de6525ea7c2erow4_col2{\n",
       "            background-color:  #536edd;\n",
       "            color:  #000000;\n",
       "        }#T_8611b3e4_1cac_11ec_bdff_de6525ea7c2erow3_col5{\n",
       "            background-color:  #9abbff;\n",
       "            color:  #000000;\n",
       "        }#T_8611b3e4_1cac_11ec_bdff_de6525ea7c2erow3_col6{\n",
       "            background-color:  #82a6fb;\n",
       "            color:  #000000;\n",
       "        }#T_8611b3e4_1cac_11ec_bdff_de6525ea7c2erow3_col7{\n",
       "            background-color:  #779af7;\n",
       "            color:  #000000;\n",
       "        }#T_8611b3e4_1cac_11ec_bdff_de6525ea7c2erow3_col8,#T_8611b3e4_1cac_11ec_bdff_de6525ea7c2erow7_col0{\n",
       "            background-color:  #799cf8;\n",
       "            color:  #000000;\n",
       "        }#T_8611b3e4_1cac_11ec_bdff_de6525ea7c2erow4_col1{\n",
       "            background-color:  #6b8df0;\n",
       "            color:  #000000;\n",
       "        }#T_8611b3e4_1cac_11ec_bdff_de6525ea7c2erow4_col3{\n",
       "            background-color:  #94b6ff;\n",
       "            color:  #000000;\n",
       "        }#T_8611b3e4_1cac_11ec_bdff_de6525ea7c2erow4_col7{\n",
       "            background-color:  #ec7f63;\n",
       "            color:  #000000;\n",
       "        }#T_8611b3e4_1cac_11ec_bdff_de6525ea7c2erow4_col8,#T_8611b3e4_1cac_11ec_bdff_de6525ea7c2erow5_col4{\n",
       "            background-color:  #5977e3;\n",
       "            color:  #000000;\n",
       "        }#T_8611b3e4_1cac_11ec_bdff_de6525ea7c2erow5_col0{\n",
       "            background-color:  #506bda;\n",
       "            color:  #000000;\n",
       "        }#T_8611b3e4_1cac_11ec_bdff_de6525ea7c2erow5_col1{\n",
       "            background-color:  #7396f5;\n",
       "            color:  #000000;\n",
       "        }#T_8611b3e4_1cac_11ec_bdff_de6525ea7c2erow5_col2,#T_8611b3e4_1cac_11ec_bdff_de6525ea7c2erow6_col8{\n",
       "            background-color:  #85a8fc;\n",
       "            color:  #000000;\n",
       "        }#T_8611b3e4_1cac_11ec_bdff_de6525ea7c2erow5_col3{\n",
       "            background-color:  #b6cefa;\n",
       "            color:  #000000;\n",
       "        }#T_8611b3e4_1cac_11ec_bdff_de6525ea7c2erow5_col7{\n",
       "            background-color:  #9bbcff;\n",
       "            color:  #000000;\n",
       "        }#T_8611b3e4_1cac_11ec_bdff_de6525ea7c2erow6_col0{\n",
       "            background-color:  #c1d4f4;\n",
       "            color:  #000000;\n",
       "        }#T_8611b3e4_1cac_11ec_bdff_de6525ea7c2erow6_col1,#T_8611b3e4_1cac_11ec_bdff_de6525ea7c2erow7_col2{\n",
       "            background-color:  #6a8bef;\n",
       "            color:  #000000;\n",
       "        }#T_8611b3e4_1cac_11ec_bdff_de6525ea7c2erow6_col2{\n",
       "            background-color:  #89acfd;\n",
       "            color:  #000000;\n",
       "        }#T_8611b3e4_1cac_11ec_bdff_de6525ea7c2erow6_col3{\n",
       "            background-color:  #a2c1ff;\n",
       "            color:  #000000;\n",
       "        }#T_8611b3e4_1cac_11ec_bdff_de6525ea7c2erow6_col7{\n",
       "            background-color:  #485fd1;\n",
       "            color:  #f1f1f1;\n",
       "        }#T_8611b3e4_1cac_11ec_bdff_de6525ea7c2erow7_col1,#T_8611b3e4_1cac_11ec_bdff_de6525ea7c2erow8_col1,#T_8611b3e4_1cac_11ec_bdff_de6525ea7c2erow8_col3{\n",
       "            background-color:  #7597f6;\n",
       "            color:  #000000;\n",
       "        }#T_8611b3e4_1cac_11ec_bdff_de6525ea7c2erow7_col3{\n",
       "            background-color:  #8caffe;\n",
       "            color:  #000000;\n",
       "        }#T_8611b3e4_1cac_11ec_bdff_de6525ea7c2erow7_col4{\n",
       "            background-color:  #e97a5f;\n",
       "            color:  #000000;\n",
       "        }#T_8611b3e4_1cac_11ec_bdff_de6525ea7c2erow7_col5{\n",
       "            background-color:  #8fb1fe;\n",
       "            color:  #000000;\n",
       "        }#T_8611b3e4_1cac_11ec_bdff_de6525ea7c2erow8_col0,#T_8611b3e4_1cac_11ec_bdff_de6525ea7c2erow8_col5{\n",
       "            background-color:  #6180e9;\n",
       "            color:  #000000;\n",
       "        }#T_8611b3e4_1cac_11ec_bdff_de6525ea7c2erow8_col2{\n",
       "            background-color:  #c4d5f3;\n",
       "            color:  #000000;\n",
       "        }#T_8611b3e4_1cac_11ec_bdff_de6525ea7c2erow8_col4{\n",
       "            background-color:  #516ddb;\n",
       "            color:  #000000;\n",
       "        }#T_8611b3e4_1cac_11ec_bdff_de6525ea7c2erow8_col6{\n",
       "            background-color:  #5f7fe8;\n",
       "            color:  #000000;\n",
       "        }</style><table id=\"T_8611b3e4_1cac_11ec_bdff_de6525ea7c2e\" ><thead>    <tr>        <th class=\"blank level0\" ></th>        <th class=\"col_heading level0 col0\" >Store</th>        <th class=\"col_heading level0 col1\" >Weekly_Sales</th>        <th class=\"col_heading level0 col2\" >Holiday_Flag</th>        <th class=\"col_heading level0 col3\" >Temperature</th>        <th class=\"col_heading level0 col4\" >Fuel_Price</th>        <th class=\"col_heading level0 col5\" >CPI</th>        <th class=\"col_heading level0 col6\" >Unemployment</th>        <th class=\"col_heading level0 col7\" >year</th>        <th class=\"col_heading level0 col8\" >month</th>    </tr></thead><tbody>\n",
       "                <tr>\n",
       "                        <th id=\"T_8611b3e4_1cac_11ec_bdff_de6525ea7c2elevel0_row0\" class=\"row_heading level0 row0\" >Store</th>\n",
       "                        <td id=\"T_8611b3e4_1cac_11ec_bdff_de6525ea7c2erow0_col0\" class=\"data row0 col0\" >1.0</td>\n",
       "                        <td id=\"T_8611b3e4_1cac_11ec_bdff_de6525ea7c2erow0_col1\" class=\"data row0 col1\" >-0.34</td>\n",
       "                        <td id=\"T_8611b3e4_1cac_11ec_bdff_de6525ea7c2erow0_col2\" class=\"data row0 col2\" >6.3e-20</td>\n",
       "                        <td id=\"T_8611b3e4_1cac_11ec_bdff_de6525ea7c2erow0_col3\" class=\"data row0 col3\" >-0.023</td>\n",
       "                        <td id=\"T_8611b3e4_1cac_11ec_bdff_de6525ea7c2erow0_col4\" class=\"data row0 col4\" >0.06</td>\n",
       "                        <td id=\"T_8611b3e4_1cac_11ec_bdff_de6525ea7c2erow0_col5\" class=\"data row0 col5\" >-0.21</td>\n",
       "                        <td id=\"T_8611b3e4_1cac_11ec_bdff_de6525ea7c2erow0_col6\" class=\"data row0 col6\" >0.22</td>\n",
       "                        <td id=\"T_8611b3e4_1cac_11ec_bdff_de6525ea7c2erow0_col7\" class=\"data row0 col7\" >0.0</td>\n",
       "                        <td id=\"T_8611b3e4_1cac_11ec_bdff_de6525ea7c2erow0_col8\" class=\"data row0 col8\" >3.1e-19</td>\n",
       "            </tr>\n",
       "            <tr>\n",
       "                        <th id=\"T_8611b3e4_1cac_11ec_bdff_de6525ea7c2elevel0_row1\" class=\"row_heading level0 row1\" >Weekly_Sales</th>\n",
       "                        <td id=\"T_8611b3e4_1cac_11ec_bdff_de6525ea7c2erow1_col0\" class=\"data row1 col0\" >-0.34</td>\n",
       "                        <td id=\"T_8611b3e4_1cac_11ec_bdff_de6525ea7c2erow1_col1\" class=\"data row1 col1\" >1.0</td>\n",
       "                        <td id=\"T_8611b3e4_1cac_11ec_bdff_de6525ea7c2erow1_col2\" class=\"data row1 col2\" >0.037</td>\n",
       "                        <td id=\"T_8611b3e4_1cac_11ec_bdff_de6525ea7c2erow1_col3\" class=\"data row1 col3\" >-0.064</td>\n",
       "                        <td id=\"T_8611b3e4_1cac_11ec_bdff_de6525ea7c2erow1_col4\" class=\"data row1 col4\" >0.0095</td>\n",
       "                        <td id=\"T_8611b3e4_1cac_11ec_bdff_de6525ea7c2erow1_col5\" class=\"data row1 col5\" >-0.073</td>\n",
       "                        <td id=\"T_8611b3e4_1cac_11ec_bdff_de6525ea7c2erow1_col6\" class=\"data row1 col6\" >-0.11</td>\n",
       "                        <td id=\"T_8611b3e4_1cac_11ec_bdff_de6525ea7c2erow1_col7\" class=\"data row1 col7\" >-0.018</td>\n",
       "                        <td id=\"T_8611b3e4_1cac_11ec_bdff_de6525ea7c2erow1_col8\" class=\"data row1 col8\" >0.068</td>\n",
       "            </tr>\n",
       "            <tr>\n",
       "                        <th id=\"T_8611b3e4_1cac_11ec_bdff_de6525ea7c2elevel0_row2\" class=\"row_heading level0 row2\" >Holiday_Flag</th>\n",
       "                        <td id=\"T_8611b3e4_1cac_11ec_bdff_de6525ea7c2erow2_col0\" class=\"data row2 col0\" >6.3e-20</td>\n",
       "                        <td id=\"T_8611b3e4_1cac_11ec_bdff_de6525ea7c2erow2_col1\" class=\"data row2 col1\" >0.037</td>\n",
       "                        <td id=\"T_8611b3e4_1cac_11ec_bdff_de6525ea7c2erow2_col2\" class=\"data row2 col2\" >1.0</td>\n",
       "                        <td id=\"T_8611b3e4_1cac_11ec_bdff_de6525ea7c2erow2_col3\" class=\"data row2 col3\" >-0.16</td>\n",
       "                        <td id=\"T_8611b3e4_1cac_11ec_bdff_de6525ea7c2erow2_col4\" class=\"data row2 col4\" >-0.078</td>\n",
       "                        <td id=\"T_8611b3e4_1cac_11ec_bdff_de6525ea7c2erow2_col5\" class=\"data row2 col5\" >-0.0022</td>\n",
       "                        <td id=\"T_8611b3e4_1cac_11ec_bdff_de6525ea7c2erow2_col6\" class=\"data row2 col6\" >0.011</td>\n",
       "                        <td id=\"T_8611b3e4_1cac_11ec_bdff_de6525ea7c2erow2_col7\" class=\"data row2 col7\" >-0.057</td>\n",
       "                        <td id=\"T_8611b3e4_1cac_11ec_bdff_de6525ea7c2erow2_col8\" class=\"data row2 col8\" >0.33</td>\n",
       "            </tr>\n",
       "            <tr>\n",
       "                        <th id=\"T_8611b3e4_1cac_11ec_bdff_de6525ea7c2elevel0_row3\" class=\"row_heading level0 row3\" >Temperature</th>\n",
       "                        <td id=\"T_8611b3e4_1cac_11ec_bdff_de6525ea7c2erow3_col0\" class=\"data row3 col0\" >-0.023</td>\n",
       "                        <td id=\"T_8611b3e4_1cac_11ec_bdff_de6525ea7c2erow3_col1\" class=\"data row3 col1\" >-0.064</td>\n",
       "                        <td id=\"T_8611b3e4_1cac_11ec_bdff_de6525ea7c2erow3_col2\" class=\"data row3 col2\" >-0.16</td>\n",
       "                        <td id=\"T_8611b3e4_1cac_11ec_bdff_de6525ea7c2erow3_col3\" class=\"data row3 col3\" >1.0</td>\n",
       "                        <td id=\"T_8611b3e4_1cac_11ec_bdff_de6525ea7c2erow3_col4\" class=\"data row3 col4\" >0.14</td>\n",
       "                        <td id=\"T_8611b3e4_1cac_11ec_bdff_de6525ea7c2erow3_col5\" class=\"data row3 col5\" >0.18</td>\n",
       "                        <td id=\"T_8611b3e4_1cac_11ec_bdff_de6525ea7c2erow3_col6\" class=\"data row3 col6\" >0.1</td>\n",
       "                        <td id=\"T_8611b3e4_1cac_11ec_bdff_de6525ea7c2erow3_col7\" class=\"data row3 col7\" >0.064</td>\n",
       "                        <td id=\"T_8611b3e4_1cac_11ec_bdff_de6525ea7c2erow3_col8\" class=\"data row3 col8\" >0.066</td>\n",
       "            </tr>\n",
       "            <tr>\n",
       "                        <th id=\"T_8611b3e4_1cac_11ec_bdff_de6525ea7c2elevel0_row4\" class=\"row_heading level0 row4\" >Fuel_Price</th>\n",
       "                        <td id=\"T_8611b3e4_1cac_11ec_bdff_de6525ea7c2erow4_col0\" class=\"data row4 col0\" >0.06</td>\n",
       "                        <td id=\"T_8611b3e4_1cac_11ec_bdff_de6525ea7c2erow4_col1\" class=\"data row4 col1\" >0.0095</td>\n",
       "                        <td id=\"T_8611b3e4_1cac_11ec_bdff_de6525ea7c2erow4_col2\" class=\"data row4 col2\" >-0.078</td>\n",
       "                        <td id=\"T_8611b3e4_1cac_11ec_bdff_de6525ea7c2erow4_col3\" class=\"data row4 col3\" >0.14</td>\n",
       "                        <td id=\"T_8611b3e4_1cac_11ec_bdff_de6525ea7c2erow4_col4\" class=\"data row4 col4\" >1.0</td>\n",
       "                        <td id=\"T_8611b3e4_1cac_11ec_bdff_de6525ea7c2erow4_col5\" class=\"data row4 col5\" >-0.17</td>\n",
       "                        <td id=\"T_8611b3e4_1cac_11ec_bdff_de6525ea7c2erow4_col6\" class=\"data row4 col6\" >-0.035</td>\n",
       "                        <td id=\"T_8611b3e4_1cac_11ec_bdff_de6525ea7c2erow4_col7\" class=\"data row4 col7\" >0.78</td>\n",
       "                        <td id=\"T_8611b3e4_1cac_11ec_bdff_de6525ea7c2erow4_col8\" class=\"data row4 col8\" >-0.053</td>\n",
       "            </tr>\n",
       "            <tr>\n",
       "                        <th id=\"T_8611b3e4_1cac_11ec_bdff_de6525ea7c2elevel0_row5\" class=\"row_heading level0 row5\" >CPI</th>\n",
       "                        <td id=\"T_8611b3e4_1cac_11ec_bdff_de6525ea7c2erow5_col0\" class=\"data row5 col0\" >-0.21</td>\n",
       "                        <td id=\"T_8611b3e4_1cac_11ec_bdff_de6525ea7c2erow5_col1\" class=\"data row5 col1\" >-0.073</td>\n",
       "                        <td id=\"T_8611b3e4_1cac_11ec_bdff_de6525ea7c2erow5_col2\" class=\"data row5 col2\" >-0.0022</td>\n",
       "                        <td id=\"T_8611b3e4_1cac_11ec_bdff_de6525ea7c2erow5_col3\" class=\"data row5 col3\" >0.18</td>\n",
       "                        <td id=\"T_8611b3e4_1cac_11ec_bdff_de6525ea7c2erow5_col4\" class=\"data row5 col4\" >-0.17</td>\n",
       "                        <td id=\"T_8611b3e4_1cac_11ec_bdff_de6525ea7c2erow5_col5\" class=\"data row5 col5\" >1.0</td>\n",
       "                        <td id=\"T_8611b3e4_1cac_11ec_bdff_de6525ea7c2erow5_col6\" class=\"data row5 col6\" >-0.3</td>\n",
       "                        <td id=\"T_8611b3e4_1cac_11ec_bdff_de6525ea7c2erow5_col7\" class=\"data row5 col7\" >0.075</td>\n",
       "                        <td id=\"T_8611b3e4_1cac_11ec_bdff_de6525ea7c2erow5_col8\" class=\"data row5 col8\" >0.0015</td>\n",
       "            </tr>\n",
       "            <tr>\n",
       "                        <th id=\"T_8611b3e4_1cac_11ec_bdff_de6525ea7c2elevel0_row6\" class=\"row_heading level0 row6\" >Unemployment</th>\n",
       "                        <td id=\"T_8611b3e4_1cac_11ec_bdff_de6525ea7c2erow6_col0\" class=\"data row6 col0\" >0.22</td>\n",
       "                        <td id=\"T_8611b3e4_1cac_11ec_bdff_de6525ea7c2erow6_col1\" class=\"data row6 col1\" >-0.11</td>\n",
       "                        <td id=\"T_8611b3e4_1cac_11ec_bdff_de6525ea7c2erow6_col2\" class=\"data row6 col2\" >0.011</td>\n",
       "                        <td id=\"T_8611b3e4_1cac_11ec_bdff_de6525ea7c2erow6_col3\" class=\"data row6 col3\" >0.1</td>\n",
       "                        <td id=\"T_8611b3e4_1cac_11ec_bdff_de6525ea7c2erow6_col4\" class=\"data row6 col4\" >-0.035</td>\n",
       "                        <td id=\"T_8611b3e4_1cac_11ec_bdff_de6525ea7c2erow6_col5\" class=\"data row6 col5\" >-0.3</td>\n",
       "                        <td id=\"T_8611b3e4_1cac_11ec_bdff_de6525ea7c2erow6_col6\" class=\"data row6 col6\" >1.0</td>\n",
       "                        <td id=\"T_8611b3e4_1cac_11ec_bdff_de6525ea7c2erow6_col7\" class=\"data row6 col7\" >-0.24</td>\n",
       "                        <td id=\"T_8611b3e4_1cac_11ec_bdff_de6525ea7c2erow6_col8\" class=\"data row6 col8\" >-0.0021</td>\n",
       "            </tr>\n",
       "            <tr>\n",
       "                        <th id=\"T_8611b3e4_1cac_11ec_bdff_de6525ea7c2elevel0_row7\" class=\"row_heading level0 row7\" >year</th>\n",
       "                        <td id=\"T_8611b3e4_1cac_11ec_bdff_de6525ea7c2erow7_col0\" class=\"data row7 col0\" >0.0</td>\n",
       "                        <td id=\"T_8611b3e4_1cac_11ec_bdff_de6525ea7c2erow7_col1\" class=\"data row7 col1\" >-0.018</td>\n",
       "                        <td id=\"T_8611b3e4_1cac_11ec_bdff_de6525ea7c2erow7_col2\" class=\"data row7 col2\" >-0.057</td>\n",
       "                        <td id=\"T_8611b3e4_1cac_11ec_bdff_de6525ea7c2erow7_col3\" class=\"data row7 col3\" >0.064</td>\n",
       "                        <td id=\"T_8611b3e4_1cac_11ec_bdff_de6525ea7c2erow7_col4\" class=\"data row7 col4\" >0.78</td>\n",
       "                        <td id=\"T_8611b3e4_1cac_11ec_bdff_de6525ea7c2erow7_col5\" class=\"data row7 col5\" >0.075</td>\n",
       "                        <td id=\"T_8611b3e4_1cac_11ec_bdff_de6525ea7c2erow7_col6\" class=\"data row7 col6\" >-0.24</td>\n",
       "                        <td id=\"T_8611b3e4_1cac_11ec_bdff_de6525ea7c2erow7_col7\" class=\"data row7 col7\" >1.0</td>\n",
       "                        <td id=\"T_8611b3e4_1cac_11ec_bdff_de6525ea7c2erow7_col8\" class=\"data row7 col8\" >-0.14</td>\n",
       "            </tr>\n",
       "            <tr>\n",
       "                        <th id=\"T_8611b3e4_1cac_11ec_bdff_de6525ea7c2elevel0_row8\" class=\"row_heading level0 row8\" >month</th>\n",
       "                        <td id=\"T_8611b3e4_1cac_11ec_bdff_de6525ea7c2erow8_col0\" class=\"data row8 col0\" >3.1e-19</td>\n",
       "                        <td id=\"T_8611b3e4_1cac_11ec_bdff_de6525ea7c2erow8_col1\" class=\"data row8 col1\" >0.068</td>\n",
       "                        <td id=\"T_8611b3e4_1cac_11ec_bdff_de6525ea7c2erow8_col2\" class=\"data row8 col2\" >0.33</td>\n",
       "                        <td id=\"T_8611b3e4_1cac_11ec_bdff_de6525ea7c2erow8_col3\" class=\"data row8 col3\" >0.066</td>\n",
       "                        <td id=\"T_8611b3e4_1cac_11ec_bdff_de6525ea7c2erow8_col4\" class=\"data row8 col4\" >-0.053</td>\n",
       "                        <td id=\"T_8611b3e4_1cac_11ec_bdff_de6525ea7c2erow8_col5\" class=\"data row8 col5\" >0.0015</td>\n",
       "                        <td id=\"T_8611b3e4_1cac_11ec_bdff_de6525ea7c2erow8_col6\" class=\"data row8 col6\" >-0.0021</td>\n",
       "                        <td id=\"T_8611b3e4_1cac_11ec_bdff_de6525ea7c2erow8_col7\" class=\"data row8 col7\" >-0.14</td>\n",
       "                        <td id=\"T_8611b3e4_1cac_11ec_bdff_de6525ea7c2erow8_col8\" class=\"data row8 col8\" >1.0</td>\n",
       "            </tr>\n",
       "    </tbody></table>"
      ],
      "text/plain": [
       "<pandas.io.formats.style.Styler at 0x1e5fa850640>"
      ]
     },
     "execution_count": 68,
     "metadata": {},
     "output_type": "execute_result"
    }
   ],
   "source": [
    "correlation2"
   ]
  },
  {
   "cell_type": "markdown",
   "metadata": {},
   "source": [
    "#### Notes:\n",
    "\n",
    "> there are a weak negative correlation beetwen weekly sales and Store, this could be for the distribution of Stores\n",
    "\n",
    "> there are a strong positive correlation between Fuel price and year, this mean fuel price is incrementing yearly"
   ]
  },
  {
   "cell_type": "markdown",
   "metadata": {},
   "source": [
    "---"
   ]
  },
  {
   "cell_type": "code",
   "execution_count": 69,
   "metadata": {},
   "outputs": [
    {
     "data": {
      "text/html": [
       "<div>\n",
       "<style scoped>\n",
       "    .dataframe tbody tr th:only-of-type {\n",
       "        vertical-align: middle;\n",
       "    }\n",
       "\n",
       "    .dataframe tbody tr th {\n",
       "        vertical-align: top;\n",
       "    }\n",
       "\n",
       "    .dataframe thead th {\n",
       "        text-align: right;\n",
       "    }\n",
       "</style>\n",
       "<table border=\"1\" class=\"dataframe\">\n",
       "  <thead>\n",
       "    <tr style=\"text-align: right;\">\n",
       "      <th></th>\n",
       "      <th>Store</th>\n",
       "      <th>Date</th>\n",
       "      <th>Weekly_Sales</th>\n",
       "      <th>Holiday_Flag</th>\n",
       "      <th>Temperature</th>\n",
       "      <th>Fuel_Price</th>\n",
       "      <th>CPI</th>\n",
       "      <th>Unemployment</th>\n",
       "      <th>year</th>\n",
       "      <th>month</th>\n",
       "    </tr>\n",
       "  </thead>\n",
       "  <tbody>\n",
       "    <tr>\n",
       "      <th>0</th>\n",
       "      <td>1</td>\n",
       "      <td>2010-05-02</td>\n",
       "      <td>1643690.90</td>\n",
       "      <td>0</td>\n",
       "      <td>42.31</td>\n",
       "      <td>2.57</td>\n",
       "      <td>211.10</td>\n",
       "      <td>8.11</td>\n",
       "      <td>2010</td>\n",
       "      <td>5</td>\n",
       "    </tr>\n",
       "    <tr>\n",
       "      <th>1</th>\n",
       "      <td>1</td>\n",
       "      <td>2010-12-02</td>\n",
       "      <td>1641957.44</td>\n",
       "      <td>1</td>\n",
       "      <td>38.51</td>\n",
       "      <td>2.55</td>\n",
       "      <td>211.24</td>\n",
       "      <td>8.11</td>\n",
       "      <td>2010</td>\n",
       "      <td>12</td>\n",
       "    </tr>\n",
       "    <tr>\n",
       "      <th>2</th>\n",
       "      <td>1</td>\n",
       "      <td>2010-02-19</td>\n",
       "      <td>1611968.17</td>\n",
       "      <td>0</td>\n",
       "      <td>39.93</td>\n",
       "      <td>2.51</td>\n",
       "      <td>211.29</td>\n",
       "      <td>8.11</td>\n",
       "      <td>2010</td>\n",
       "      <td>2</td>\n",
       "    </tr>\n",
       "    <tr>\n",
       "      <th>3</th>\n",
       "      <td>1</td>\n",
       "      <td>2010-02-26</td>\n",
       "      <td>1409727.59</td>\n",
       "      <td>0</td>\n",
       "      <td>46.63</td>\n",
       "      <td>2.56</td>\n",
       "      <td>211.32</td>\n",
       "      <td>8.11</td>\n",
       "      <td>2010</td>\n",
       "      <td>2</td>\n",
       "    </tr>\n",
       "    <tr>\n",
       "      <th>4</th>\n",
       "      <td>1</td>\n",
       "      <td>2010-05-03</td>\n",
       "      <td>1554806.68</td>\n",
       "      <td>0</td>\n",
       "      <td>46.50</td>\n",
       "      <td>2.62</td>\n",
       "      <td>211.35</td>\n",
       "      <td>8.11</td>\n",
       "      <td>2010</td>\n",
       "      <td>5</td>\n",
       "    </tr>\n",
       "    <tr>\n",
       "      <th>...</th>\n",
       "      <td>...</td>\n",
       "      <td>...</td>\n",
       "      <td>...</td>\n",
       "      <td>...</td>\n",
       "      <td>...</td>\n",
       "      <td>...</td>\n",
       "      <td>...</td>\n",
       "      <td>...</td>\n",
       "      <td>...</td>\n",
       "      <td>...</td>\n",
       "    </tr>\n",
       "    <tr>\n",
       "      <th>6430</th>\n",
       "      <td>45</td>\n",
       "      <td>2012-09-28</td>\n",
       "      <td>713173.95</td>\n",
       "      <td>0</td>\n",
       "      <td>64.88</td>\n",
       "      <td>4.00</td>\n",
       "      <td>192.01</td>\n",
       "      <td>8.68</td>\n",
       "      <td>2012</td>\n",
       "      <td>9</td>\n",
       "    </tr>\n",
       "    <tr>\n",
       "      <th>6431</th>\n",
       "      <td>45</td>\n",
       "      <td>2012-05-10</td>\n",
       "      <td>733455.07</td>\n",
       "      <td>0</td>\n",
       "      <td>64.89</td>\n",
       "      <td>3.98</td>\n",
       "      <td>192.17</td>\n",
       "      <td>8.67</td>\n",
       "      <td>2012</td>\n",
       "      <td>5</td>\n",
       "    </tr>\n",
       "    <tr>\n",
       "      <th>6432</th>\n",
       "      <td>45</td>\n",
       "      <td>2012-12-10</td>\n",
       "      <td>734464.36</td>\n",
       "      <td>0</td>\n",
       "      <td>54.47</td>\n",
       "      <td>4.00</td>\n",
       "      <td>192.33</td>\n",
       "      <td>8.67</td>\n",
       "      <td>2012</td>\n",
       "      <td>12</td>\n",
       "    </tr>\n",
       "    <tr>\n",
       "      <th>6433</th>\n",
       "      <td>45</td>\n",
       "      <td>2012-10-19</td>\n",
       "      <td>718125.53</td>\n",
       "      <td>0</td>\n",
       "      <td>56.47</td>\n",
       "      <td>3.97</td>\n",
       "      <td>192.33</td>\n",
       "      <td>8.67</td>\n",
       "      <td>2012</td>\n",
       "      <td>10</td>\n",
       "    </tr>\n",
       "    <tr>\n",
       "      <th>6434</th>\n",
       "      <td>45</td>\n",
       "      <td>2012-10-26</td>\n",
       "      <td>760281.43</td>\n",
       "      <td>0</td>\n",
       "      <td>58.85</td>\n",
       "      <td>3.88</td>\n",
       "      <td>192.31</td>\n",
       "      <td>8.67</td>\n",
       "      <td>2012</td>\n",
       "      <td>10</td>\n",
       "    </tr>\n",
       "  </tbody>\n",
       "</table>\n",
       "<p>6435 rows × 10 columns</p>\n",
       "</div>"
      ],
      "text/plain": [
       "      Store       Date  Weekly_Sales  Holiday_Flag  Temperature  Fuel_Price  \\\n",
       "0         1 2010-05-02    1643690.90             0        42.31        2.57   \n",
       "1         1 2010-12-02    1641957.44             1        38.51        2.55   \n",
       "2         1 2010-02-19    1611968.17             0        39.93        2.51   \n",
       "3         1 2010-02-26    1409727.59             0        46.63        2.56   \n",
       "4         1 2010-05-03    1554806.68             0        46.50        2.62   \n",
       "...     ...        ...           ...           ...          ...         ...   \n",
       "6430     45 2012-09-28     713173.95             0        64.88        4.00   \n",
       "6431     45 2012-05-10     733455.07             0        64.89        3.98   \n",
       "6432     45 2012-12-10     734464.36             0        54.47        4.00   \n",
       "6433     45 2012-10-19     718125.53             0        56.47        3.97   \n",
       "6434     45 2012-10-26     760281.43             0        58.85        3.88   \n",
       "\n",
       "        CPI  Unemployment  year  month  \n",
       "0    211.10          8.11  2010      5  \n",
       "1    211.24          8.11  2010     12  \n",
       "2    211.29          8.11  2010      2  \n",
       "3    211.32          8.11  2010      2  \n",
       "4    211.35          8.11  2010      5  \n",
       "...     ...           ...   ...    ...  \n",
       "6430 192.01          8.68  2012      9  \n",
       "6431 192.17          8.67  2012      5  \n",
       "6432 192.33          8.67  2012     12  \n",
       "6433 192.33          8.67  2012     10  \n",
       "6434 192.31          8.67  2012     10  \n",
       "\n",
       "[6435 rows x 10 columns]"
      ]
     },
     "execution_count": 69,
     "metadata": {},
     "output_type": "execute_result"
    }
   ],
   "source": [
    "Store"
   ]
  },
  {
   "cell_type": "code",
   "execution_count": 70,
   "metadata": {},
   "outputs": [
    {
     "name": "stderr",
     "output_type": "stream",
     "text": [
      "C:\\Users\\steve\\anaconda3\\lib\\site-packages\\seaborn\\_decorators.py:36: FutureWarning: Pass the following variable as a keyword arg: x. From version 0.12, the only valid positional argument will be `data`, and passing other arguments without an explicit keyword will result in an error or misinterpretation.\n",
      "  warnings.warn(\n",
      "C:\\Users\\steve\\anaconda3\\lib\\site-packages\\seaborn\\_decorators.py:36: FutureWarning: Pass the following variable as a keyword arg: x. From version 0.12, the only valid positional argument will be `data`, and passing other arguments without an explicit keyword will result in an error or misinterpretation.\n",
      "  warnings.warn(\n",
      "C:\\Users\\steve\\anaconda3\\lib\\site-packages\\seaborn\\_decorators.py:36: FutureWarning: Pass the following variable as a keyword arg: x. From version 0.12, the only valid positional argument will be `data`, and passing other arguments without an explicit keyword will result in an error or misinterpretation.\n",
      "  warnings.warn(\n",
      "C:\\Users\\steve\\anaconda3\\lib\\site-packages\\seaborn\\_decorators.py:36: FutureWarning: Pass the following variable as a keyword arg: x. From version 0.12, the only valid positional argument will be `data`, and passing other arguments without an explicit keyword will result in an error or misinterpretation.\n",
      "  warnings.warn(\n"
     ]
    },
    {
     "data": {
      "image/png": "[encoded data removed]",
      "text/plain": [
       "<Figure size 432x1296 with 4 Axes>"
      ]
     },
     "metadata": {
      "needs_background": "light"
     },
     "output_type": "display_data"
    }
   ],
   "source": [
    "# find outliers \n",
    "fig, axs = plt.subplots(4,figsize=(6,18))\n",
    "X = Store[['Temperature','Fuel_Price','CPI','Unemployment']]\n",
    "for i,column in enumerate(X):\n",
    "    sns.boxplot(Store[column], ax=axs[i])"
   ]
  },
  {
   "cell_type": "code",
   "execution_count": 71,
   "metadata": {},
   "outputs": [
    {
     "data": {
      "text/html": [
       "<div>\n",
       "<style scoped>\n",
       "    .dataframe tbody tr th:only-of-type {\n",
       "        vertical-align: middle;\n",
       "    }\n",
       "\n",
       "    .dataframe tbody tr th {\n",
       "        vertical-align: top;\n",
       "    }\n",
       "\n",
       "    .dataframe thead th {\n",
       "        text-align: right;\n",
       "    }\n",
       "</style>\n",
       "<table border=\"1\" class=\"dataframe\">\n",
       "  <thead>\n",
       "    <tr style=\"text-align: right;\">\n",
       "      <th></th>\n",
       "      <th>Store</th>\n",
       "      <th>Date</th>\n",
       "      <th>Weekly_Sales</th>\n",
       "      <th>Holiday_Flag</th>\n",
       "      <th>Temperature</th>\n",
       "      <th>Fuel_Price</th>\n",
       "      <th>CPI</th>\n",
       "      <th>Unemployment</th>\n",
       "      <th>year</th>\n",
       "      <th>month</th>\n",
       "    </tr>\n",
       "  </thead>\n",
       "  <tbody>\n",
       "    <tr>\n",
       "      <th>0</th>\n",
       "      <td>1</td>\n",
       "      <td>2010-05-02</td>\n",
       "      <td>1643690.90</td>\n",
       "      <td>0</td>\n",
       "      <td>42.31</td>\n",
       "      <td>2.57</td>\n",
       "      <td>211.10</td>\n",
       "      <td>8.11</td>\n",
       "      <td>2010</td>\n",
       "      <td>5</td>\n",
       "    </tr>\n",
       "    <tr>\n",
       "      <th>1</th>\n",
       "      <td>1</td>\n",
       "      <td>2010-12-02</td>\n",
       "      <td>1641957.44</td>\n",
       "      <td>1</td>\n",
       "      <td>38.51</td>\n",
       "      <td>2.55</td>\n",
       "      <td>211.24</td>\n",
       "      <td>8.11</td>\n",
       "      <td>2010</td>\n",
       "      <td>12</td>\n",
       "    </tr>\n",
       "    <tr>\n",
       "      <th>2</th>\n",
       "      <td>1</td>\n",
       "      <td>2010-02-19</td>\n",
       "      <td>1611968.17</td>\n",
       "      <td>0</td>\n",
       "      <td>39.93</td>\n",
       "      <td>2.51</td>\n",
       "      <td>211.29</td>\n",
       "      <td>8.11</td>\n",
       "      <td>2010</td>\n",
       "      <td>2</td>\n",
       "    </tr>\n",
       "    <tr>\n",
       "      <th>3</th>\n",
       "      <td>1</td>\n",
       "      <td>2010-02-26</td>\n",
       "      <td>1409727.59</td>\n",
       "      <td>0</td>\n",
       "      <td>46.63</td>\n",
       "      <td>2.56</td>\n",
       "      <td>211.32</td>\n",
       "      <td>8.11</td>\n",
       "      <td>2010</td>\n",
       "      <td>2</td>\n",
       "    </tr>\n",
       "    <tr>\n",
       "      <th>4</th>\n",
       "      <td>1</td>\n",
       "      <td>2010-05-03</td>\n",
       "      <td>1554806.68</td>\n",
       "      <td>0</td>\n",
       "      <td>46.50</td>\n",
       "      <td>2.62</td>\n",
       "      <td>211.35</td>\n",
       "      <td>8.11</td>\n",
       "      <td>2010</td>\n",
       "      <td>5</td>\n",
       "    </tr>\n",
       "    <tr>\n",
       "      <th>...</th>\n",
       "      <td>...</td>\n",
       "      <td>...</td>\n",
       "      <td>...</td>\n",
       "      <td>...</td>\n",
       "      <td>...</td>\n",
       "      <td>...</td>\n",
       "      <td>...</td>\n",
       "      <td>...</td>\n",
       "      <td>...</td>\n",
       "      <td>...</td>\n",
       "    </tr>\n",
       "    <tr>\n",
       "      <th>6430</th>\n",
       "      <td>45</td>\n",
       "      <td>2012-09-28</td>\n",
       "      <td>713173.95</td>\n",
       "      <td>0</td>\n",
       "      <td>64.88</td>\n",
       "      <td>4.00</td>\n",
       "      <td>192.01</td>\n",
       "      <td>8.68</td>\n",
       "      <td>2012</td>\n",
       "      <td>9</td>\n",
       "    </tr>\n",
       "    <tr>\n",
       "      <th>6431</th>\n",
       "      <td>45</td>\n",
       "      <td>2012-05-10</td>\n",
       "      <td>733455.07</td>\n",
       "      <td>0</td>\n",
       "      <td>64.89</td>\n",
       "      <td>3.98</td>\n",
       "      <td>192.17</td>\n",
       "      <td>8.67</td>\n",
       "      <td>2012</td>\n",
       "      <td>5</td>\n",
       "    </tr>\n",
       "    <tr>\n",
       "      <th>6432</th>\n",
       "      <td>45</td>\n",
       "      <td>2012-12-10</td>\n",
       "      <td>734464.36</td>\n",
       "      <td>0</td>\n",
       "      <td>54.47</td>\n",
       "      <td>4.00</td>\n",
       "      <td>192.33</td>\n",
       "      <td>8.67</td>\n",
       "      <td>2012</td>\n",
       "      <td>12</td>\n",
       "    </tr>\n",
       "    <tr>\n",
       "      <th>6433</th>\n",
       "      <td>45</td>\n",
       "      <td>2012-10-19</td>\n",
       "      <td>718125.53</td>\n",
       "      <td>0</td>\n",
       "      <td>56.47</td>\n",
       "      <td>3.97</td>\n",
       "      <td>192.33</td>\n",
       "      <td>8.67</td>\n",
       "      <td>2012</td>\n",
       "      <td>10</td>\n",
       "    </tr>\n",
       "    <tr>\n",
       "      <th>6434</th>\n",
       "      <td>45</td>\n",
       "      <td>2012-10-26</td>\n",
       "      <td>760281.43</td>\n",
       "      <td>0</td>\n",
       "      <td>58.85</td>\n",
       "      <td>3.88</td>\n",
       "      <td>192.31</td>\n",
       "      <td>8.67</td>\n",
       "      <td>2012</td>\n",
       "      <td>10</td>\n",
       "    </tr>\n",
       "  </tbody>\n",
       "</table>\n",
       "<p>5658 rows × 10 columns</p>\n",
       "</div>"
      ],
      "text/plain": [
       "      Store       Date  Weekly_Sales  Holiday_Flag  Temperature  Fuel_Price  \\\n",
       "0         1 2010-05-02    1643690.90             0        42.31        2.57   \n",
       "1         1 2010-12-02    1641957.44             1        38.51        2.55   \n",
       "2         1 2010-02-19    1611968.17             0        39.93        2.51   \n",
       "3         1 2010-02-26    1409727.59             0        46.63        2.56   \n",
       "4         1 2010-05-03    1554806.68             0        46.50        2.62   \n",
       "...     ...        ...           ...           ...          ...         ...   \n",
       "6430     45 2012-09-28     713173.95             0        64.88        4.00   \n",
       "6431     45 2012-05-10     733455.07             0        64.89        3.98   \n",
       "6432     45 2012-12-10     734464.36             0        54.47        4.00   \n",
       "6433     45 2012-10-19     718125.53             0        56.47        3.97   \n",
       "6434     45 2012-10-26     760281.43             0        58.85        3.88   \n",
       "\n",
       "        CPI  Unemployment  year  month  \n",
       "0    211.10          8.11  2010      5  \n",
       "1    211.24          8.11  2010     12  \n",
       "2    211.29          8.11  2010      2  \n",
       "3    211.32          8.11  2010      2  \n",
       "4    211.35          8.11  2010      5  \n",
       "...     ...           ...   ...    ...  \n",
       "6430 192.01          8.68  2012      9  \n",
       "6431 192.17          8.67  2012      5  \n",
       "6432 192.33          8.67  2012     12  \n",
       "6433 192.33          8.67  2012     10  \n",
       "6434 192.31          8.67  2012     10  \n",
       "\n",
       "[5658 rows x 10 columns]"
      ]
     },
     "execution_count": 71,
     "metadata": {},
     "output_type": "execute_result"
    }
   ],
   "source": [
    "# drop the outliers     \n",
    "fixed_data = Store[(Store['Unemployment']<10) & (Store['Unemployment']>4.5) & (Store['Temperature']>10)]\n",
    "fixed_data"
   ]
  },
  {
   "cell_type": "code",
   "execution_count": 72,
   "metadata": {},
   "outputs": [],
   "source": [
    "#train_data = fixed_data.drop(['Date'], axis=1)\n",
    "train_data = fixed_data[['Fuel_Price','Unemployment', 'CPI','Weekly_Sales', 'Holiday_Flag']]\n"
   ]
  },
  {
   "cell_type": "code",
   "execution_count": 73,
   "metadata": {},
   "outputs": [],
   "source": [
    "from sklearn.model_selection import train_test_split\n",
    "from sklearn import metrics\n",
    "from sklearn.linear_model import LinearRegression"
   ]
  },
  {
   "cell_type": "code",
   "execution_count": 74,
   "metadata": {},
   "outputs": [],
   "source": [
    "X = fixed_data[['Store','Fuel_Price','CPI','Unemployment','month','year']]\n",
    "Y = fixed_data['Weekly_Sales']\n",
    "\n",
    "# Split data (0.80:0.20)\n",
    "X_train, X_test, Y_train, Y_test = train_test_split(X,Y,test_size=0.2)"
   ]
  },
  {
   "cell_type": "code",
   "execution_count": 75,
   "metadata": {},
   "outputs": [
    {
     "name": "stdout",
     "output_type": "stream",
     "text": [
      "Linear Regression:\n",
      " \n",
      "Accuracy: 13.126239491004931\n",
      "Mean Absolute Error: 448837.9171006586\n",
      "Mean Squared Error: 290041017282.76776\n",
      "Root Mean Squared Error: 538554.5629578936\n"
     ]
    },
    {
     "name": "stderr",
     "output_type": "stream",
     "text": [
      "C:\\Users\\steve\\anaconda3\\lib\\site-packages\\seaborn\\_decorators.py:36: FutureWarning: Pass the following variables as keyword args: x, y. From version 0.12, the only valid positional argument will be `data`, and passing other arguments without an explicit keyword will result in an error or misinterpretation.\n",
      "  warnings.warn(\n",
      "C:\\Users\\steve\\anaconda3\\lib\\site-packages\\seaborn\\_decorators.py:36: FutureWarning: Pass the following variables as keyword args: x, y. From version 0.12, the only valid positional argument will be `data`, and passing other arguments without an explicit keyword will result in an error or misinterpretation.\n",
      "  warnings.warn(\n"
     ]
    },
    {
     "data": {
      "image/png": "[encoded data removed]",
      "text/plain": [
       "<Figure size 432x288 with 1 Axes>"
      ]
     },
     "metadata": {
      "needs_background": "light"
     },
     "output_type": "display_data"
    }
   ],
   "source": [
    "print('Linear Regression:')\n",
    "print(' ')\n",
    "regressor = LinearRegression()\n",
    "regressor.fit(X_train, Y_train)\n",
    "y_pred = regressor.predict(X_test)\n",
    "\n",
    "\n",
    "print('Accuracy:',regressor.score(X_train, Y_train)*100)\n",
    "print('Mean Absolute Error:', metrics.mean_absolute_error(Y_test, y_pred))\n",
    "print('Mean Squared Error:', metrics.mean_squared_error(Y_test, y_pred))\n",
    "print('Root Mean Squared Error:', np.sqrt(metrics.mean_squared_error(Y_test, y_pred)))\n",
    "\n",
    "sns.regplot(y_pred, Y_test, data=fixed_data);\n",
    "sns.scatterplot(y_pred, Y_test);"
   ]
  },
  {
   "cell_type": "code",
   "execution_count": 76,
   "metadata": {},
   "outputs": [
    {
     "name": "stdout",
     "output_type": "stream",
     "text": [
      "Linear Regression:\n",
      " \n",
      "Accuracy: 13.126239491004931\n",
      "Mean Absolute Error: 446655.0168013443\n",
      "Mean Squared Error: 289719082099.8817\n",
      "Root Mean Squared Error: 538255.591796204\n"
     ]
    },
    {
     "name": "stderr",
     "output_type": "stream",
     "text": [
      "C:\\Users\\steve\\anaconda3\\lib\\site-packages\\seaborn\\_decorators.py:36: FutureWarning: Pass the following variables as keyword args: x, y. From version 0.12, the only valid positional argument will be `data`, and passing other arguments without an explicit keyword will result in an error or misinterpretation.\n",
      "  warnings.warn(\n",
      "C:\\Users\\steve\\anaconda3\\lib\\site-packages\\seaborn\\_decorators.py:36: FutureWarning: Pass the following variables as keyword args: x, y. From version 0.12, the only valid positional argument will be `data`, and passing other arguments without an explicit keyword will result in an error or misinterpretation.\n",
      "  warnings.warn(\n"
     ]
    },
    {
     "data": {
      "image/png": "[encoded data removed]",
      "text/plain": [
       "<Figure size 432x288 with 1 Axes>"
      ]
     },
     "metadata": {
      "needs_background": "light"
     },
     "output_type": "display_data"
    }
   ],
   "source": [
    "print('Linear Regression:')\n",
    "print(' ')\n",
    "regressor = LinearRegression()\n",
    "regressor.fit(X_train, Y_train)\n",
    "y_pred = regressor.predict(X_train)\n",
    "\n",
    "\n",
    "print('Accuracy:',regressor.score(X_train, Y_train)*100)\n",
    "print('Mean Absolute Error:', metrics.mean_absolute_error(Y_train, y_pred))\n",
    "print('Mean Squared Error:', metrics.mean_squared_error(Y_train, y_pred))\n",
    "print('Root Mean Squared Error:', np.sqrt(metrics.mean_squared_error(Y_train, y_pred)))\n",
    "\n",
    "sns.regplot(y_pred, Y_train, data=fixed_data);\n",
    "sns.scatterplot(y_pred, Y_train);"
   ]
  },
  {
   "cell_type": "code",
   "execution_count": 77,
   "metadata": {},
   "outputs": [
    {
     "name": "stderr",
     "output_type": "stream",
     "text": [
      "<ipython-input-77-634ef7cfef6e>:7: SettingWithCopyWarning: \n",
      "A value is trying to be set on a copy of a slice from a DataFrame.\n",
      "Try using .loc[row_indexer,col_indexer] = value instead\n",
      "\n",
      "See the caveats in the documentation: https://pandas.pydata.org/pandas-docs/stable/user_guide/indexing.html#returning-a-view-versus-a-copy\n",
      "  factors['Day'] = day_arr.copy()\n"
     ]
    },
    {
     "data": {
      "text/html": [
       "<div>\n",
       "<style scoped>\n",
       "    .dataframe tbody tr th:only-of-type {\n",
       "        vertical-align: middle;\n",
       "    }\n",
       "\n",
       "    .dataframe tbody tr th {\n",
       "        vertical-align: top;\n",
       "    }\n",
       "\n",
       "    .dataframe thead th {\n",
       "        text-align: right;\n",
       "    }\n",
       "</style>\n",
       "<table border=\"1\" class=\"dataframe\">\n",
       "  <thead>\n",
       "    <tr style=\"text-align: right;\">\n",
       "      <th></th>\n",
       "      <th>Fuel_Price</th>\n",
       "      <th>Unemployment</th>\n",
       "      <th>CPI</th>\n",
       "      <th>Weekly_Sales</th>\n",
       "      <th>Holiday_Flag</th>\n",
       "      <th>Day</th>\n",
       "    </tr>\n",
       "  </thead>\n",
       "  <tbody>\n",
       "    <tr>\n",
       "      <th>0</th>\n",
       "      <td>2.57</td>\n",
       "      <td>8.11</td>\n",
       "      <td>211.10</td>\n",
       "      <td>1643690.90</td>\n",
       "      <td>0</td>\n",
       "      <td>1</td>\n",
       "    </tr>\n",
       "    <tr>\n",
       "      <th>1</th>\n",
       "      <td>2.55</td>\n",
       "      <td>8.11</td>\n",
       "      <td>211.24</td>\n",
       "      <td>1641957.44</td>\n",
       "      <td>1</td>\n",
       "      <td>7</td>\n",
       "    </tr>\n",
       "    <tr>\n",
       "      <th>2</th>\n",
       "      <td>2.51</td>\n",
       "      <td>8.11</td>\n",
       "      <td>211.29</td>\n",
       "      <td>1611968.17</td>\n",
       "      <td>0</td>\n",
       "      <td>14</td>\n",
       "    </tr>\n",
       "    <tr>\n",
       "      <th>3</th>\n",
       "      <td>2.56</td>\n",
       "      <td>8.11</td>\n",
       "      <td>211.32</td>\n",
       "      <td>1409727.59</td>\n",
       "      <td>0</td>\n",
       "      <td>21</td>\n",
       "    </tr>\n",
       "    <tr>\n",
       "      <th>4</th>\n",
       "      <td>2.62</td>\n",
       "      <td>8.11</td>\n",
       "      <td>211.35</td>\n",
       "      <td>1554806.68</td>\n",
       "      <td>0</td>\n",
       "      <td>28</td>\n",
       "    </tr>\n",
       "    <tr>\n",
       "      <th>...</th>\n",
       "      <td>...</td>\n",
       "      <td>...</td>\n",
       "      <td>...</td>\n",
       "      <td>...</td>\n",
       "      <td>...</td>\n",
       "      <td>...</td>\n",
       "    </tr>\n",
       "    <tr>\n",
       "      <th>138</th>\n",
       "      <td>3.67</td>\n",
       "      <td>6.91</td>\n",
       "      <td>222.98</td>\n",
       "      <td>1437059.26</td>\n",
       "      <td>0</td>\n",
       "      <td>966</td>\n",
       "    </tr>\n",
       "    <tr>\n",
       "      <th>139</th>\n",
       "      <td>3.62</td>\n",
       "      <td>6.57</td>\n",
       "      <td>223.18</td>\n",
       "      <td>1670785.97</td>\n",
       "      <td>0</td>\n",
       "      <td>973</td>\n",
       "    </tr>\n",
       "    <tr>\n",
       "      <th>140</th>\n",
       "      <td>3.60</td>\n",
       "      <td>6.57</td>\n",
       "      <td>223.38</td>\n",
       "      <td>1573072.81</td>\n",
       "      <td>0</td>\n",
       "      <td>980</td>\n",
       "    </tr>\n",
       "    <tr>\n",
       "      <th>141</th>\n",
       "      <td>3.59</td>\n",
       "      <td>6.57</td>\n",
       "      <td>223.43</td>\n",
       "      <td>1508068.77</td>\n",
       "      <td>0</td>\n",
       "      <td>987</td>\n",
       "    </tr>\n",
       "    <tr>\n",
       "      <th>142</th>\n",
       "      <td>3.51</td>\n",
       "      <td>6.57</td>\n",
       "      <td>223.44</td>\n",
       "      <td>1493659.74</td>\n",
       "      <td>0</td>\n",
       "      <td>994</td>\n",
       "    </tr>\n",
       "  </tbody>\n",
       "</table>\n",
       "<p>143 rows × 6 columns</p>\n",
       "</div>"
      ],
      "text/plain": [
       "     Fuel_Price  Unemployment    CPI  Weekly_Sales  Holiday_Flag  Day\n",
       "0          2.57          8.11 211.10    1643690.90             0    1\n",
       "1          2.55          8.11 211.24    1641957.44             1    7\n",
       "2          2.51          8.11 211.29    1611968.17             0   14\n",
       "3          2.56          8.11 211.32    1409727.59             0   21\n",
       "4          2.62          8.11 211.35    1554806.68             0   28\n",
       "..          ...           ...    ...           ...           ...  ...\n",
       "138        3.67          6.91 222.98    1437059.26             0  966\n",
       "139        3.62          6.57 223.18    1670785.97             0  973\n",
       "140        3.60          6.57 223.38    1573072.81             0  980\n",
       "141        3.59          6.57 223.43    1508068.77             0  987\n",
       "142        3.51          6.57 223.44    1493659.74             0  994\n",
       "\n",
       "[143 rows x 6 columns]"
      ]
     },
     "execution_count": 77,
     "metadata": {},
     "output_type": "execute_result"
    }
   ],
   "source": [
    "hypothesiss = Store.groupby('Store')[['Fuel_Price','Unemployment', 'CPI','Weekly_Sales', 'Holiday_Flag']]\n",
    "factors  = hypothesiss.get_group(1) #Filter by Store 1\n",
    "day_arr = [1]\n",
    "for i in range (1,len(factors)):\n",
    "    day_arr.append(i*7)\n",
    "    \n",
    "factors['Day'] = day_arr.copy()\n",
    "factors"
   ]
  },
  {
   "cell_type": "code",
   "execution_count": 78,
   "metadata": {},
   "outputs": [
    {
     "data": {
      "text/plain": [
       "<seaborn.axisgrid.FacetGrid at 0x1e5fd92cb80>"
      ]
     },
     "execution_count": 78,
     "metadata": {},
     "output_type": "execute_result"
    },
    {
     "data": {
      "text/plain": [
       "<Figure size 1080x432 with 0 Axes>"
      ]
     },
     "metadata": {},
     "output_type": "display_data"
    },
    {
     "data": {
      "image/png": "[encoded data removed]",
      "text/plain": [
       "<Figure size 360x360 with 1 Axes>"
      ]
     },
     "metadata": {
      "needs_background": "light"
     },
     "output_type": "display_data"
    },
    {
     "data": {
      "image/png": "[encoded data removed]",
      "text/plain": [
       "<Figure size 360x360 with 1 Axes>"
      ]
     },
     "metadata": {
      "needs_background": "light"
     },
     "output_type": "display_data"
    }
   ],
   "source": [
    "plt.figure(figsize = (15,6))\n",
    "sns.lmplot(x='Fuel_Price', y = 'Unemployment', data = train_data)\n",
    "\n",
    "sns.lmplot(x='CPI', y = 'Unemployment', data = train_data)"
   ]
  },
  {
   "cell_type": "code",
   "execution_count": 79,
   "metadata": {},
   "outputs": [
    {
     "name": "stdout",
     "output_type": "stream",
     "text": [
      "0.0\n",
      "reject null hypothesis\n"
     ]
    }
   ],
   "source": [
    "from scipy import stats\n",
    "ttest,pval = stats.ttest_rel(train_data['Weekly_Sales'],train_data['CPI'])\n",
    "print(pval)\n",
    "if pval<0.05:\n",
    "    print(\"reject null hypothesis\")\n",
    "else:\n",
    "    print(\"accept null hypothesis\")"
   ]
  },
  {
   "cell_type": "code",
   "execution_count": 80,
   "metadata": {},
   "outputs": [
    {
     "name": "stdout",
     "output_type": "stream",
     "text": [
      "0.0\n",
      "reject null hypothesis\n"
     ]
    },
    {
     "data": {
      "text/plain": [
       "<Figure size 432x288 with 0 Axes>"
      ]
     },
     "metadata": {},
     "output_type": "display_data"
    }
   ],
   "source": [
    "from scipy import stats\n",
    "ttest,pval = stats.ttest_rel(train_data['Weekly_Sales'],train_data['Fuel_Price'])\n",
    "plt.figure()\n",
    "print(pval)\n",
    "if pval<0.05:\n",
    "    print(\"reject null hypothesis\")\n",
    "else:\n",
    "    print(\"accept null hypothesis\")"
   ]
  },
  {
   "cell_type": "code",
   "execution_count": 81,
   "metadata": {},
   "outputs": [
    {
     "name": "stdout",
     "output_type": "stream",
     "text": [
      "0.0\n",
      "reject null hypothesis\n"
     ]
    },
    {
     "data": {
      "text/plain": [
       "<Figure size 432x288 with 0 Axes>"
      ]
     },
     "metadata": {},
     "output_type": "display_data"
    }
   ],
   "source": [
    "from scipy import stats\n",
    "ttest,pval = stats.ttest_rel(train_data['Weekly_Sales'],train_data['Unemployment'])\n",
    "plt.figure()\n",
    "print(pval)\n",
    "if pval<0.05:\n",
    "    print(\"reject null hypothesis\")\n",
    "else:\n",
    "    print(\"accept null hypothesis\")"
   ]
  },
  {
   "cell_type": "markdown",
   "metadata": {},
   "source": [
    "#### notes: \n",
    "\n",
    "Linear Regression\n",
    "Utilize variables like date and restructure dates as 1 for 5 Feb 2010 (starting from the earliest date in order). Hypothesize if CPI, unemployment, and fuel price have any impact on sales.\n",
    "\n",
    "> As the Fuel_price and Cpi goes high, rate of Unemployment Decreases\n",
    "\n",
    "> There is a very low correlation in the linear regression\n",
    "\n",
    "hypothesis p-values\n",
    "\n",
    "> CPI, Unemployment, and fuel price do not have any impact on sales"
   ]
  },
  {
   "cell_type": "code",
   "execution_count": 115,
   "metadata": {},
   "outputs": [],
   "source": [
    "import sklearn\n",
    "from sklearn.decomposition import PCA\n",
    "from sklearn.preprocessing import StandardScaler\n",
    "from sklearn.model_selection import train_test_split\n",
    "from sklearn.linear_model import LogisticRegression"
   ]
  },
  {
   "cell_type": "code",
   "execution_count": 83,
   "metadata": {},
   "outputs": [
    {
     "data": {
      "text/plain": [
       "(4526, 6)"
      ]
     },
     "execution_count": 83,
     "metadata": {},
     "output_type": "execute_result"
    }
   ],
   "source": [
    "X_train.shape"
   ]
  },
  {
   "cell_type": "code",
   "execution_count": 84,
   "metadata": {},
   "outputs": [
    {
     "data": {
      "text/plain": [
       "(4526,)"
      ]
     },
     "execution_count": 84,
     "metadata": {},
     "output_type": "execute_result"
    }
   ],
   "source": [
    "Y_train.shape"
   ]
  },
  {
   "cell_type": "code",
   "execution_count": 110,
   "metadata": {},
   "outputs": [
    {
     "data": {
      "text/plain": [
       "PCA(n_components=3)"
      ]
     },
     "execution_count": 110,
     "metadata": {},
     "output_type": "execute_result"
    }
   ],
   "source": [
    "pca = PCA(n_components=3)\n",
    "pca.fit(X_train)"
   ]
  },
  {
   "cell_type": "code",
   "execution_count": 111,
   "metadata": {},
   "outputs": [],
   "source": [
    "dt_train = pca.transform(X_train)\n",
    "dt_test = pca.transform(X_test)"
   ]
  },
  {
   "cell_type": "code",
   "execution_count": 112,
   "metadata": {},
   "outputs": [
    {
     "data": {
      "text/plain": [
       "LinearRegression()"
      ]
     },
     "execution_count": 112,
     "metadata": {},
     "output_type": "execute_result"
    }
   ],
   "source": [
    "regressor.fit(dt_train, Y_train)"
   ]
  },
  {
   "cell_type": "code",
   "execution_count": 113,
   "metadata": {},
   "outputs": [
    {
     "name": "stdout",
     "output_type": "stream",
     "text": [
      "SCORE PCA:  12.01294402939872\n"
     ]
    }
   ],
   "source": [
    "print(\"SCORE PCA: \", regressor.score(dt_test, Y_test)*100)\n"
   ]
  }
 ],
 "metadata": {
  "kernelspec": {
   "display_name": "Python 3",
   "language": "python",
   "name": "python3"
  },
  "language_info": {
   "codemirror_mode": {
    "name": "ipython",
    "version": 3
   },
   "file_extension": ".py",
   "mimetype": "text/x-python",
   "name": "python",
   "nbconvert_exporter": "python",
   "pygments_lexer": "ipython3",
   "version": "3.8.5"
  }
 },
 "nbformat": 4,
 "nbformat_minor": 4
}
